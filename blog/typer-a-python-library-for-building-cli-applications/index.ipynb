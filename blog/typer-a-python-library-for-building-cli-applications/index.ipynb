{
 "cells": [
  {
   "cell_type": "raw",
   "id": "20d00ff3-2b98-43d3-87b3-2b8142356054",
   "metadata": {},
   "source": [
    "---\n",
    "title: \"Typer: A Python Library for Building CLI Applications\"\n",
    "slug: typer-a-python-library-for-building-cli-applications\n",
    "date: 2024-01-11\n",
    "authors: [\"Ivan Ogasawara\"]\n",
    "tags: [open-source, cli, python]\n",
    "categories: [python]\n",
    "description: |\n",
    "  Typer is an exciting library for Python developers, designed to make the creation of\n",
    "  command-line interface (CLI) applications not just easier, but also more enjoyable.\n",
    "  Built on top of the well-known Click library, Typer leverages Python 3.6+ features,\n",
    "  like type hints, to define CLI commands in a straightforward and intuitive way.\n",
    "thumbnail: \"/header.svg\"\n",
    "template: \"blog-post.html\"\n",
    "---"
   ]
  },
  {
   "cell_type": "markdown",
   "id": "24d656a5-38e6-4ed0-bf15-b8854b96b475",
   "metadata": {},
   "source": [
    "# Typer: A Python Library for Building CLI Applications\n",
    "\n",
    "## What is Typer?\n",
    "\n",
    "Typer is an exciting library for Python developers, designed to make the creation of command-line interface (CLI) applications not just easier, but also more enjoyable. Built on top of the well-known Click library, Typer leverages Python 3.6+ features, like type hints, to define CLI commands in a straightforward and intuitive way.\n",
    "\n",
    "## Why Choose Typer?\n",
    "\n",
    "- **Simplicity**: With Typer, you can create powerful CLI applications using minimal code.\n",
    "- **Type Hints**: Leverages Python's type hints for parameter declaration, reducing errors and improving code clarity.\n",
    "- **Automatic Help**: Generates help text and error messages based on your code.\n",
    "- **Subcommands**: Supports nested commands, allowing complex CLI applications.\n",
    "\n",
    "## Getting Started with Typer\n",
    "\n",
    "### Installation\n",
    "\n",
    "To begin using Typer, you first need to install it. You can easily do this using pip:"
   ]
  },
  {
   "cell_type": "code",
   "execution_count": 1,
   "id": "df3d4252-6fc3-46c0-93a2-009b29a06950",
   "metadata": {},
   "outputs": [],
   "source": [
    "!pip install typer -q"
   ]
  },
  {
   "cell_type": "markdown",
   "id": "29687fe2-1c91-4193-8090-948d8f0e7f01",
   "metadata": {},
   "source": [
    "### Creating Your First Typer Application\n",
    "\n",
    "Let's start with a simple example. We'll create an application that greets a user.\n",
    "\n",
    "First, import Typer and create an instance of it:"
   ]
  },
  {
   "cell_type": "code",
   "execution_count": 2,
   "id": "1978b4e0-0fb0-4206-951b-30b59d3932c7",
   "metadata": {},
   "outputs": [],
   "source": [
    "import typer\n",
    "\n",
    "app = typer.Typer()"
   ]
  },
  {
   "cell_type": "markdown",
   "id": "6ca9ee46-01b3-45a1-a8d2-4cc6572469d0",
   "metadata": {},
   "source": [
    "Now, define a function that will act as your command. Use type hints for function arguments:"
   ]
  },
  {
   "cell_type": "code",
   "execution_count": 3,
   "id": "ed5cbac1-0d88-423e-a89a-13269674f8e5",
   "metadata": {},
   "outputs": [],
   "source": [
    "@app.command()\n",
    "def greet(\n",
    "    name: str = typer.Option(\n",
    "        \"--name\",\n",
    "        \"-n\",\n",
    "        help=\"The name of the person to greet.\"\n",
    "    )\n",
    ") -> None:\n",
    "    \"\"\"Greets the user by name.\"\"\"\n",
    "    typer.echo(f\"Hello {name}!\")"
   ]
  },
  {
   "cell_type": "markdown",
   "id": "7d3e5fa5-89eb-452f-bff3-0db5c27a6e14",
   "metadata": {},
   "source": [
    "To run this application, use the following code block at the end of your script:"
   ]
  },
  {
   "cell_type": "markdown",
   "id": "f3f1a6c8-f1e2-45aa-8bfc-de265508b1f2",
   "metadata": {},
   "source": [
    "```python\n",
    "if __name__ == \"__main__\":\n",
    "    app()\n",
    "```"
   ]
  },
  {
   "cell_type": "markdown",
   "id": "ade80555-11b1-41fe-9f52-05c025c905ec",
   "metadata": {},
   "source": [
    "### Running the Application\n",
    "\n",
    "Save the script as `greet.py` and run it from the command line:"
   ]
  },
  {
   "cell_type": "code",
   "execution_count": 4,
   "id": "e2dc5366-aacc-4fcf-a35c-37a44c07e4a1",
   "metadata": {},
   "outputs": [
    {
     "name": "stdout",
     "output_type": "stream",
     "text": [
      "Overwriting greet.py\n"
     ]
    }
   ],
   "source": [
    "%%writefile greet.py\n",
    "\n",
    "import typer\n",
    "\n",
    "app = typer.Typer()\n",
    "\n",
    "@app.command()\n",
    "def greet(\n",
    "    name: str = typer.Option(\n",
    "        ..., \n",
    "        \"--name\",\n",
    "        help=\"The name of the person to greet.\"\n",
    "    )\n",
    ") -> None:\n",
    "    \"\"\"Greets the user by name.\"\"\"\n",
    "    typer.echo(f\"Hello {name}!\")\n",
    "\n",
    "if __name__ == \"__main__\":\n",
    "    app()"
   ]
  },
  {
   "cell_type": "code",
   "execution_count": 5,
   "id": "ffbab51f-316b-45ae-ae0f-89ae4f2fb091",
   "metadata": {},
   "outputs": [
    {
     "name": "stdout",
     "output_type": "stream",
     "text": [
      "Hello Alice!\n"
     ]
    }
   ],
   "source": [
    "!python greet.py --name Alice"
   ]
  },
  {
   "cell_type": "markdown",
   "id": "888efccd-2376-4ae2-b5f7-9f9bb533a061",
   "metadata": {},
   "source": [
    "### Help Documentation\n",
    "\n",
    "Typer automatically generates help documentation for your application. Try running:"
   ]
  },
  {
   "cell_type": "code",
   "execution_count": 6,
   "id": "df751231-f505-4325-b866-d1aca5c8ea1e",
   "metadata": {},
   "outputs": [
    {
     "name": "stdout",
     "output_type": "stream",
     "text": [
      "Usage: greet.py [OPTIONS]\n",
      "\n",
      "  Greets the user by name.\n",
      "\n",
      "Options:\n",
      "  --name TEXT                     The name of the person to greet.  [required]\n",
      "  --install-completion [bash|zsh|fish|powershell|pwsh]\n",
      "                                  Install completion for the specified shell.\n",
      "  --show-completion [bash|zsh|fish|powershell|pwsh]\n",
      "                                  Show completion for the specified shell, to\n",
      "                                  copy it or customize the installation.\n",
      "  --help                          Show this message and exit.\n"
     ]
    }
   ],
   "source": [
    "!python greet.py --help"
   ]
  },
  {
   "cell_type": "markdown",
   "id": "32c3a083-7758-4ccf-a284-b3c746bcdfc9",
   "metadata": {},
   "source": [
    "You'll get a detailed description of how to use the command, including available options.\n",
    "\n",
    "## Working with Subcommands\n",
    "\n",
    "Typer supports subcommands, allowing you to build more complex applications. In the following example, the script is structured around a main Typer application (app) and two sub-applications (app_user and app_product). This hierarchical structure is a hallmark of Typer, allowing for the organization of commands into distinct categories – in this case, user-related and product-related operations. Such an approach not only enhances the readability and maintainability of the code but also provides a more intuitive interface for the end users. They can easily navigate through the different functionalities of the application, whether it's creating or updating users, or handling product information."
   ]
  },
  {
   "cell_type": "code",
   "execution_count": 7,
   "id": "f65b9abc-3ec4-403f-baea-0fc900dde19d",
   "metadata": {},
   "outputs": [
    {
     "name": "stdout",
     "output_type": "stream",
     "text": [
      "Overwriting ecommerce.py\n"
     ]
    }
   ],
   "source": [
    "%%writefile ecommerce.py\n",
    "import typer\n",
    "\n",
    "from typer import Context, Option\n",
    "\n",
    "\n",
    "app = typer.Typer(help=\"Operations for e-commerce.\")\n",
    "app_user = typer.Typer(help=\"Operations for user model.\")\n",
    "app_product = typer.Typer(help=\"Operations for product model.\")\n",
    "\n",
    "app.add_typer(app_user, name=\"user\")\n",
    "app.add_typer(app_product, name=\"product\")\n",
    "\n",
    "@app.callback(invoke_without_command=True)\n",
    "def main(\n",
    "    ctx: Context,\n",
    "    version: bool = Option(\n",
    "        None,\n",
    "        \"--version\",\n",
    "        \"-v\",\n",
    "        is_flag=True,\n",
    "        help=\"Show the version and exit.\",\n",
    "    ),\n",
    ") -> None:\n",
    "    \"\"\"Process envers for specific flags, otherwise show the help menu.\"\"\"\n",
    "    if version:\n",
    "        __version__ = \"0.1.0\"\n",
    "        typer.echo(f\"Version: {__version__}\")\n",
    "        raise typer.Exit()\n",
    "\n",
    "    if ctx.invoked_subcommand is None:\n",
    "        typer.echo(ctx.get_help())\n",
    "        raise typer.Exit(0)\n",
    "\n",
    "@app_user.command(\"create\")\n",
    "def user_create(name: str = typer.Argument(..., help=\"Name of the user to create.\")) -> None:\n",
    "    \"\"\"Create a new user with the given name.\"\"\"\n",
    "    print(f\"Creating user: {name} - Done\")\n",
    "\n",
    "\n",
    "@app_user.command(\"update\")\n",
    "def user_update(name: str = typer.Argument(..., help=\"Name of the user to update.\")) -> None:\n",
    "    \"\"\"Update user data with the given name.\"\"\"\n",
    "    print(f\"Updating user: {name} - Done\")\n",
    "\n",
    "@app_product.command(\"create\")\n",
    "def product_create(name: str = typer.Argument(..., help=\"Name of the product to create.\")) -> None:\n",
    "    \"\"\"Create a new product with the given name.\"\"\"\n",
    "    print(f\"Creating product: {name} - Done\")\n",
    "\n",
    "\n",
    "@app_product.command(\"update\")\n",
    "def product_update(name: str = typer.Argument(..., help=\"Name of the product to update.\")) -> None:\n",
    "    \"\"\"Update a product with the given name.\"\"\"\n",
    "    print(f\"Updating product: {name} - Done\")\n",
    "\n",
    "\n",
    "if __name__ == \"__main__\":\n",
    "    app()"
   ]
  },
  {
   "cell_type": "markdown",
   "id": "5e4b18ac-db76-4428-a6e9-46d68aa4b80b",
   "metadata": {},
   "source": [
    "A key feature demonstrated in the script is the use of the callback function with the invoke_without_command=True parameter. This setup enables the execution of specific code (like displaying the version or help text) before any subcommands are processed. It's a powerful tool for handling pre-command logic or global options that apply to the entire CLI application.\n",
    "\n",
    "Moreover, the script showcases the simplicity and elegance of defining commands in Typer. Each operation, such as creating or updating users and products, is defined as a function, with parameters automatically translated into command-line options or arguments. This approach not only makes the code more readable but also leverages Python's type hints to ensure that the command-line arguments are correctly interpreted, providing a seamless and error-free user experience."
   ]
  },
  {
   "cell_type": "markdown",
   "id": "d5a36362-e9dd-4653-a72b-41e54ee88717",
   "metadata": {},
   "source": [
    "In the following lines, there are some examples of the CLI call with different parameters."
   ]
  },
  {
   "cell_type": "code",
   "execution_count": 8,
   "id": "5edf02bf-631b-482c-8e58-f272ce837669",
   "metadata": {},
   "outputs": [
    {
     "name": "stdout",
     "output_type": "stream",
     "text": [
      "Usage: ecommerce.py [OPTIONS] COMMAND [ARGS]...\n",
      "\n",
      "  Operations for e-commerce.\n",
      "\n",
      "Options:\n",
      "  -v, --version                   Show the version and exit.\n",
      "  --install-completion [bash|zsh|fish|powershell|pwsh]\n",
      "                                  Install completion for the specified shell.\n",
      "  --show-completion [bash|zsh|fish|powershell|pwsh]\n",
      "                                  Show completion for the specified shell, to\n",
      "                                  copy it or customize the installation.\n",
      "  --help                          Show this message and exit.\n",
      "\n",
      "Commands:\n",
      "  product  Operations for product model.\n",
      "  user     Operations for user model.\n"
     ]
    }
   ],
   "source": [
    "!python ecommerce.py --help"
   ]
  },
  {
   "cell_type": "code",
   "execution_count": 9,
   "id": "39f172a1-7a30-4c66-a1db-771711efa3ca",
   "metadata": {},
   "outputs": [
    {
     "name": "stdout",
     "output_type": "stream",
     "text": [
      "Version: 0.1.0\n"
     ]
    }
   ],
   "source": [
    "!python ecommerce.py --version"
   ]
  },
  {
   "cell_type": "code",
   "execution_count": 10,
   "id": "70d3db3d-1333-4a97-8b3b-8a2afc0e186d",
   "metadata": {},
   "outputs": [
    {
     "name": "stdout",
     "output_type": "stream",
     "text": [
      "Usage: ecommerce.py user [OPTIONS] COMMAND [ARGS]...\n",
      "\n",
      "  Operations for user model.\n",
      "\n",
      "Options:\n",
      "  --help  Show this message and exit.\n",
      "\n",
      "Commands:\n",
      "  create  Create a new user with the given name.\n",
      "  update  Update user data with the given name.\n"
     ]
    }
   ],
   "source": [
    "!python ecommerce.py user --help"
   ]
  },
  {
   "cell_type": "code",
   "execution_count": 11,
   "id": "707cebd3-bc21-4b52-885e-b72e0923e391",
   "metadata": {},
   "outputs": [
    {
     "name": "stdout",
     "output_type": "stream",
     "text": [
      "Usage: ecommerce.py user create [OPTIONS] NAME\n",
      "\n",
      "  Create a new user with the given name.\n",
      "\n",
      "Arguments:\n",
      "  NAME  Name of the user to create.  [required]\n",
      "\n",
      "Options:\n",
      "  --help  Show this message and exit.\n"
     ]
    }
   ],
   "source": [
    "!python ecommerce.py user create --help"
   ]
  },
  {
   "cell_type": "code",
   "execution_count": null,
   "id": "4a6ff744-17fb-44eb-a80c-86f97b4f960a",
   "metadata": {},
   "outputs": [],
   "source": [
    "!python ecommerce.py product --help"
   ]
  },
  {
   "cell_type": "markdown",
   "id": "c636a291-3240-4b45-bcd2-93e25b442fe0",
   "metadata": {},
   "source": [
    "## Conclusion\n",
    "\n",
    "Typer is a powerful yet straightforward tool for building CLI applications in Python. By leveraging Python's type hints, it offers an intuitive way to define commands and parameters, automatically handles help documentation, and supports complex command structures with subcommands. Whether you're a beginner or an experienced Python developer, Typer can significantly enhance your productivity in CLI development.\n",
    "\n",
    "Happy coding with Typer! 🐍✨"
   ]
  }
 ],
 "metadata": {
  "kernelspec": {
   "display_name": "Python 3 (ipykernel)",
   "language": "python",
   "name": "python3"
  },
  "language_info": {
   "codemirror_mode": {
    "name": "ipython",
    "version": 3
   },
   "file_extension": ".py",
   "mimetype": "text/x-python",
   "name": "python",
   "nbconvert_exporter": "python",
   "pygments_lexer": "ipython3",
   "version": "3.11.7"
  }
 },
 "nbformat": 4,
 "nbformat_minor": 5
}
