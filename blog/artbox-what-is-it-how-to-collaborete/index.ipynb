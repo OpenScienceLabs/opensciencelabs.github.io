{
 "cells": [
  {
   "cell_type": "raw",
   "id": "7e609acc",
   "metadata": {},
   "source": [
    "---\n",
    "title: \"ArtBox: What is it and how to collaborate?\"\n",
    "slug: artbox-what-is-it-how-to-collaborete\n",
    "date: 2024-04-02\n",
    "authors: [\"Daniela Iglesias Rocabado\"]\n",
    "tags: [open-source, art, python, multimedia processing]\n",
    "categories: [python]\n",
    "description: |\n",
    "  ArtBox is a tool set for handling multimedia files with a bunch of useful functions.\n",
    "thumbnail: \"/header.jpg\"\n",
    "template: \"blog-post.html\"\n",
    "---"
   ]
  },
  {
   "cell_type": "markdown",
   "id": "24d656a5-38e6-4ed0-bf15-b8854b96b475",
   "metadata": {},
   "source": [
    "# How to use it?\n",
    "\n",
    "## What is ArtBox?\n",
    "\n",
    "ArtBox is a versatile tool set designed for efficient multimedia file handling, offering a range of valuable functions to enhance your multimedia processing experience.\n",
    "\n",
    "\n",
    "Key features of ArtBox include capabilities for text-to-audio conversion, YouTube video downloading, musical composition from notes, audio removal from video clips, audio extraction, and merging audio with video files. These functionalities position ArtBox as a pivotal tool for multimedia enthusiasts, content creators, and anyone in need of efficient multimedia processing solutions.\n"
   ]
  },
  {
   "cell_type": "markdown",
   "id": "ebda1853",
   "metadata": {},
   "source": [
    "### Installation\n",
    "\n",
    "ArtBox relies on certain dependencies that may not function optimally on your machine. To ensure a smooth installation process, it is recommended to create a conda/mamba environment and install ArtBox within that environment.\n",
    "\n",
    "```bash\n",
    "$ mamba create --name artbox \"python>=3.8.1,<3.12\" pygobject pip\n",
    "```\n",
    "\n",
    "The command is creating a conda environment named \"artbox\" with Python version 3.8.1 or later, and includes the pygobject and pip packages in the environment. This is useful for setting up an isolated environment for a specific project or application, ensuring compatibility and reproducibility of the software stack.\n",
    "\n",
    "```bash\n",
    "$ conda activate artbox\n",
    "```\n",
    "\n",
    "To prevent dependency conflicts, please install the numpy library using the following command:\n",
    "\n",
    "```bash\n",
    "$ pip install \"numpy>=1.20\"\n",
    "```\n",
    "\n",
    "The `conda activate artbox` command is used to activate the \"artbox\" conda environment, ensuring that subsequent commands or scripts run within this isolated environment. Activation modifies the system's `PATH` to prioritize the \"artbox\" environment, allowing for the use of specific Python versions and packages associated with the project, thus maintaining a clean and reproducible development or execution environment."
   ]
  },
  {
   "cell_type": "code",
   "execution_count": 8,
   "id": "1ed9bbc9-2c65-4377-86a1-a4099944b065",
   "metadata": {},
   "outputs": [],
   "source": [
    "$ !mamba install -q -y -c conda-forge pygobject pip"
   ]
  },
  {
   "cell_type": "code",
   "execution_count": 9,
   "id": "df3d4252-6fc3-46c0-93a2-009b29a06950",
   "metadata": {},
   "outputs": [],
   "source": [
    "$ !pip install -q artbox"
   ]
  },
  {
   "cell_type": "markdown",
   "id": "70667c02",
   "metadata": {},
   "source": [
    "The `pip install artbox` command is used to install the Python package named \"artbox\" using the pip package manager. This command fetches the \"artbox\" package from the Python Package Index (PyPI) and installs it into the currently active Python environment. The `pip install` command is commonly used to add external packages or libraries to a Python environment, expanding its functionality for a particular project or application."
   ]
  },
  {
   "cell_type": "markdown",
   "id": "4a4eae64-6196-4f02-8f6a-bc591f975bd5",
   "metadata": {},
   "source": [
    "## Examples of Artbox usage.\n",
    "For the following examples, create the a temporary folder for artbox:"
   ]
  },
  {
   "cell_type": "code",
   "execution_count": null,
   "id": "4dd7d934",
   "metadata": {},
   "outputs": [],
   "source": [
    "$ mkdir /tmp/artbox"
   ]
  },
  {
   "cell_type": "markdown",
   "id": "11d1f56e-0465-47d4-8e9f-3e4b4c517159",
   "metadata": {},
   "source": [
    "### Convert text to audio\n",
    "\n",
    "By default, the `artbox voice` uses\n",
    "[`edge-tts`](https://pypi.org/project/edge-tts/) engine, but you can also\n",
    "specify [`gtts`](https://github.com/pndurette/gTTS) with the flag\n",
    "`--engine gtts`."
   ]
  },
  {
   "cell_type": "code",
   "execution_count": null,
   "id": "84661a75",
   "metadata": {},
   "outputs": [],
   "source": [
    "$ echo \"Are you ready to join Link and Zelda in fighting off this unprecedented threat to Hyrule?\" > /tmp/artbox/text.md\n",
    "$ artbox speech from-text \\\n",
    "    --title artbox \\\n",
    "    --input-path /tmp/artbox/text.md \\\n",
    "    --output-path /tmp/artbox/speech.mp3 \\\n",
    "    --engine edge-tts"
   ]
  },
  {
   "cell_type": "markdown",
   "id": "f3b10b2b",
   "metadata": {},
   "source": [
    "If you need to generate the audio for different language, you can use the flag\n",
    "`--lang`:"
   ]
  },
  {
   "cell_type": "code",
   "execution_count": null,
   "id": "357a98eb",
   "metadata": {},
   "outputs": [],
   "source": [
    "$ echo \"Bom dia, mundo!\" > /tmp/artbox/text.md\n",
    "$ artbox speech from-text \\\n",
    "    --title artbox \\\n",
    "    --input-path /tmp/artbox/text.md \\\n",
    "    --output-path /tmp/artbox/speech.mp3 \\\n",
    "    --lang pt"
   ]
  },
  {
   "cell_type": "markdown",
   "id": "ec19fb71",
   "metadata": {},
   "source": [
    "If you are using `edge-tts` engine (the default one), you can also specify the\n",
    "locale for the language, for example:"
   ]
  },
  {
   "cell_type": "code",
   "execution_count": null,
   "id": "6968f686",
   "metadata": {},
   "outputs": [],
   "source": [
    "$ echo \"Are you ready to join Link and Zelda in fighting off this unprecedented threat to Hyrule?\" > /tmp/artbox/text.md\n",
    "$ artbox speech from-text \\\n",
    "    --title artbox \\\n",
    "    --input-path /tmp/artbox/text.md \\\n",
    "    --output-path /tmp/artbox/speech.mp3 \\\n",
    "    --engine edge-tts \\\n",
    "    --lang en-IN"
   ]
  },
  {
   "cell_type": "markdown",
   "id": "35887f10",
   "metadata": {},
   "source": [
    "Additionally, if you are using edge-tts, you can specify `--rate`, `--volume`, and  `--pitch`, for example:"
   ]
  },
  {
   "cell_type": "code",
   "execution_count": null,
   "id": "8eafb782",
   "metadata": {},
   "outputs": [],
   "source": [
    "$ echo \"Do you want some coffee?\" > /tmp/artbox/text.md\n",
    "$ artbox speech from-text \\\n",
    "    --title artbox \\\n",
    "    --input-path /tmp/artbox/text.md \\\n",
    "    --output-path /tmp/artbox/speech.mp3 \\\n",
    "    --engine edge-tts \\\n",
    "    --lang en \\\n",
    "    --rate +10% \\\n",
    "    --volume -10% \\\n",
    "    --pitch -5Hz"
   ]
  },
  {
   "cell_type": "markdown",
   "id": "1764b8ec",
   "metadata": {},
   "source": [
    "### Convert audio to text\n",
    "ArtBox uses `speechrecognition` to convert from audio to text. Currently, ArtBox just support the google engine.\n",
    "\n",
    "For this example, let's first create our audio:"
   ]
  },
  {
   "cell_type": "code",
   "execution_count": null,
   "id": "88c5fe25",
   "metadata": {},
   "outputs": [],
   "source": [
    "$ echo \"Are you ready to join Link and Zelda in fighting off this unprecedented threat to Hyrule?\" > /tmp/artbox/text.md\n",
    "$ artbox speech from-text \\\n",
    "    --title artbox \\\n",
    "    --input-path /tmp/artbox/text.md \\\n",
    "    --output-path /tmp/artbox/speech.mp3 \\\n",
    "    --engine edge-tts"
   ]
  },
  {
   "cell_type": "markdown",
   "id": "e41a2821",
   "metadata": {},
   "source": [
    "Now we can convert it back to text:"
   ]
  },
  {
   "cell_type": "code",
   "execution_count": null,
   "id": "c2a45b8a",
   "metadata": {},
   "outputs": [],
   "source": [
    "$ artbox speech to-text \\\n",
    "    --input-path /tmp/artbox/speech.mp3 \\\n",
    "    --output-path /tmp/artbox/text-from-speech.md \\\n",
    "    --lang en"
   ]
  },
  {
   "cell_type": "markdown",
   "id": "828f8b46",
   "metadata": {},
   "source": [
    "### Download a youtube video\n",
    "\n",
    "If you want to download videos from the youtube, you can use the following\n",
    "command:"
   ]
  },
  {
   "cell_type": "code",
   "execution_count": null,
   "id": "5012eb6b",
   "metadata": {},
   "outputs": [],
   "source": [
    "$ artbox youtube download \\\n",
    "    --url https://www.youtube.com/watch?v=zw47_q9wbBE \\\n",
    "    --output-path /tmp/artbox/"
   ]
  },
  {
   "cell_type": "markdown",
   "id": "83199889",
   "metadata": {},
   "source": [
    "The command above downloads the video using a random resolution. If you want a specific resolution, use the flat `--resolution`:"
   ]
  },
  {
   "cell_type": "code",
   "execution_count": null,
   "id": "06146a5c",
   "metadata": {},
   "outputs": [],
   "source": [
    "$ artbox youtube download \\\n",
    "    --url https://www.youtube.com/watch?v=zw47_q9wbBE \\\n",
    "    --output-path /tmp/artbox/ \\\n",
    "    --resolution 360p"
   ]
  },
  {
   "cell_type": "markdown",
   "id": "fe09ce73",
   "metadata": {},
   "source": [
    "### Remove the audio from a video\n",
    "\n",
    "First, download the youtube video `https://www.youtube.com/watch?v=zw47_q9wbBE`, as explained before.\n",
    "\n",
    "Next, run the following command:"
   ]
  },
  {
   "cell_type": "code",
   "execution_count": null,
   "id": "3effd893",
   "metadata": {},
   "outputs": [],
   "source": [
    "$ artbox video remove-audio \\\n",
    "  --input-path \"/tmp/artbox/The Legend of Zelda Breath of the Wild - Nintendo Switch Presentation 2017 Trailer.mp4\" \\\n",
    "  --output-path /tmp/artbox/botw.mp4"
   ]
  },
  {
   "cell_type": "markdown",
   "id": "605d4b77",
   "metadata": {},
   "source": [
    "### Extract the audio from a video\n",
    "\n",
    "First, download the youtube video `https://www.youtube.com/watch?v=zw47_q9wbBE`, \n",
    "as explained before.\n",
    "\n",
    "Next, run the following command:"
   ]
  },
  {
   "cell_type": "code",
   "execution_count": null,
   "id": "22980244",
   "metadata": {},
   "outputs": [],
   "source": [
    "$ artbox video extract-audio \\\n",
    "  --input-path \"/tmp/artbox/The Legend of Zelda Breath of the Wild - Nintendo Switch Presentation 2017 Trailer.mp4\" \\\n",
    "  --output-path /tmp/artbox/botw-audio.mp3"
   ]
  },
  {
   "cell_type": "markdown",
   "id": "2f032912",
   "metadata": {},
   "source": [
    "### Combine audio and video files\n",
    "\n",
    "First, execute the previous steps:\n",
    "\n",
    "- Download a youtube video\n",
    "- Remove the audio from a video\n",
    "- Extract the audio from a video\n",
    "\n",
    "Next, run the following command:"
   ]
  },
  {
   "cell_type": "code",
   "execution_count": null,
   "id": "159d2762",
   "metadata": {},
   "outputs": [],
   "source": [
    "$ artbox video combine-video-and-audio \\\n",
    "  --video-path /tmp/artbox/botw.mp4 \\\n",
    "  --audio-path /tmp/artbox/botw-audio.mp3 \\\n",
    "  --output-path /tmp/artbox/botw-combined.mp4"
   ]
  },
  {
   "cell_type": "markdown",
   "id": "eee13338",
   "metadata": {},
   "source": [
    "## Additional dependencies\n",
    "\n",
    "If you want to use Python to play your audio files, you can install `playsound`:"
   ]
  },
  {
   "cell_type": "code",
   "execution_count": null,
   "id": "03b8a0d7",
   "metadata": {},
   "outputs": [],
   "source": [
    "$ pip wheel --use-pep517 \"playsound (==1.3.0)\""
   ]
  },
  {
   "cell_type": "markdown",
   "id": "a99f84ca",
   "metadata": {},
   "source": [
    "### Demo Video\n",
    "\n",
    "For a better explanation of the facilities and usage, please watch to the following video.\n",
    "\n",
    "<iframe width=\"560\" height=\"315\" src=\"https://www.youtube.com/embed/sITnMuZTNAw?si=goPrd2BhPxy7Fqku\" title=\"YouTube video player\" frameborder=\"0\" allow=\"accelerometer; autoplay; clipboard-write; encrypted-media; gyroscope; picture-in-picture; web-share\" allowfullscreen></iframe>"
   ]
  }
 ],
 "metadata": {
  "kernelspec": {
   "display_name": "Python 3 (ipykernel)",
   "language": "python",
   "name": "python3"
  },
  "language_info": {
   "codemirror_mode": {
    "name": "ipython",
    "version": 3
   },
   "file_extension": ".py",
   "mimetype": "text/x-python",
   "name": "python",
   "nbconvert_exporter": "python",
   "pygments_lexer": "ipython3",
   "version": "3.10.12"
  }
 },
 "nbformat": 4,
 "nbformat_minor": 5
}
