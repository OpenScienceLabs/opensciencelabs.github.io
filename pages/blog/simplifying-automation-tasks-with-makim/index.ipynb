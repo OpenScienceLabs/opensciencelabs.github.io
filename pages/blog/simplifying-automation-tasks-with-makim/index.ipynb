{
 "cells": [
  {
   "cell_type": "raw",
   "id": "14c8a840-5020-486d-a007-f2d4769dfc69",
   "metadata": {},
   "source": []
  },
  {
   "cell_type": "markdown",
   "id": "232d0e08-2248-40d7-a1f9-c52bff1b357a",
   "metadata": {},
   "source": [
    "# Simplifying Build Automation with Makim\n",
    "\n",
    "In today’s fast-paced software development environment, the efficiency of build automation and dependency management can significantly impact project timelines and developer productivity. Enter `Makim`, a modern tool designed to simplify and enhance these processes. This guide offers a deep dive into `Makim`, providing a step-by-step tutorial to help you integrate it into your workflow seamlessly.\n",
    "\n",
    "## Introduction\n",
    "\n",
    "`Makim` stands as a progressive iteration of the traditional `make` utility, adopting a `.makim.yaml` format over the classic `Makefile`. It focuses on improving how targets and dependencies are defined, with additional control options like conditional execution. By leveraging YAML, `Makim` offers an intuitive, readable way to configure build processes, making it an excellent choice for developers looking for a powerful yet straightforward automation tool.\n",
    "\n",
    "Makim is a Python-based automation tool designed for effortless project management, and supports various programming languages. With an intuitive CLI, users can specify interpreters, debug code, and define dependencies seamlessly.\n",
    "\n",
    "Catering to DevOps Engineers and Software Developers, Makim streamlines tasks without redundancy. Its versatile language support makes automation and project management easy. By minimizing setup complexities, Makim frees users to focus on coding.\n",
    "\n",
    "Makim supports multiple backends for executing code, enabling the use of various programming languages within the Makim configuration file, including Python. By default, Makim employs Xonsh - a shell language and command-line interface that augments Python 3.6+ by integrating shell primitives from Bash and IPython, thus offering a robust scripting environment. Compatible with key operating systems like Linux, macOS, and Windows, Xonsh is tailored to streamline shell commands and scripting using Python's syntax. It strives to offer a flexible interface to accommodate users of all skill levels, from novices to experts, facilitating a broad spectrum of daily computing activities.\n",
    "\n",
    "**NOTE**: Makim doesn't have support for Windows machines yet, but it is already planned to have.\n",
    "\n",
    "## Getting Started with Makim\n",
    "\n",
    "### Installation\n",
    "\n",
    "Before diving into the intricacies of `Makim`, you'll need to install it. `Makim` is available through both `pip` and `conda`, accommodating various environments and preferences:\n",
    "\n",
    "- To install `Makim` using `pip`, run:"
   ]
  },
  {
   "cell_type": "code",
   "execution_count": 1,
   "id": "761586e2-98ef-4fc1-a73b-7d9d4e1c8e7e",
   "metadata": {},
   "outputs": [],
   "source": [
    "!pip install -q \"makim==1.14.0\""
   ]
  },
  {
   "cell_type": "markdown",
   "id": "f4bb4b01-e364-46d4-9c46-c58bac20940c",
   "metadata": {},
   "source": [
    "- For those who prefer `conda`, execute:\n",
    "\n",
    "  ```\n",
    "  conda install \"makim=1.14.0\"\n",
    "  ```\n",
    "\n",
    "These commands install `Makim` on your system. Please, note that makim is still in constantly development, and until it reaches the version 2, it will be changing by a lot, so we recommend to pin it to a specific version.\n",
    "\n",
    "### Setting Up Your First `.makim.yaml` File\n",
    "\n",
    "At the heart of `Makim` is the `.makim.yaml` file, which houses all your project's automation configuration. Here's how to create a basic `.makim.yaml`:\n",
    "\n",
    "1. **Navigate to Your Project Root**: The `.makim.yaml` file should be located at the root of your project directory.\n",
    "   \n",
    "2. **Create Your `.makim.yaml`**: Start with a simple text editor or IDE of your choice and create a new file named `.makim.yaml`.\n",
    "\n",
    "3. **Define Your Configuration**: Insert the basic structure of your automation setup. For instance, you might want to define a simple build and clean process as follows:"
   ]
  },
  {
   "cell_type": "code",
   "execution_count": 2,
   "id": "dd79bbd0-73db-4d25-ae06-a143aef3b8e1",
   "metadata": {},
   "outputs": [
    {
     "name": "stdout",
     "output_type": "stream",
     "text": [
      "Overwriting .makim.yaml\n"
     ]
    }
   ],
   "source": [
    "%%writefile .makim.yaml\n",
    "version: 1.0.0\n",
    "groups:\n",
    "  clean:\n",
    "    env-file: .env\n",
    "    targets:\n",
    "      tmp:\n",
    "        help: Use this target to clean up temporary files\n",
    "        run: |\n",
    "          echo \"Cleaning up...\"\n",
    "  tests:\n",
    "    targets:\n",
    "     unit:\n",
    "       help: Build the program\n",
    "       args:\n",
    "         clean:\n",
    "           type: bool\n",
    "           action: store_true\n",
    "           help: if not set, the clean dependency will not be triggered.\n",
    "       dependencies:\n",
    "         - target: clean.tmp\n",
    "           if: ${{ args.clean == true }}\n",
    "       run: |\n",
    "         echo \"Runnint unit tests...\""
   ]
  },
  {
   "cell_type": "markdown",
   "id": "7bb49d00-0f25-4679-97ce-2bd2ecfa6e3c",
   "metadata": {},
   "source": [
    "This configuration outlines two primary actions: `clean` and `build`, with the latter dependent on the former based on a conditional argument.\n",
    "\n",
    "### Understanding the Help Menu\n",
    "\n",
    "One of `Makim`'s standout features is its auto-generated help menu, which provides a comprehensive overview of available commands and their purposes. To access it, run:"
   ]
  },
  {
   "cell_type": "code",
   "execution_count": 3,
   "id": "5e17c7ab-a183-40d9-bc1a-96ff8be6a91b",
   "metadata": {},
   "outputs": [
    {
     "name": "stdout",
     "output_type": "stream",
     "text": [
      "\u001b[1m                                                                                \u001b[0m\n",
      "\u001b[1m \u001b[0m\u001b[1;33mUsage: \u001b[0m\u001b[1mmakim [OPTIONS] COMMAND [ARGS]...\u001b[0m\u001b[1m                                      \u001b[0m\u001b[1m \u001b[0m\n",
      "\u001b[1m                                                                                \u001b[0m\n",
      " Makim is a tool that helps you to organize and simplify your helper commands.  \n",
      "                                                                                \n",
      "\u001b[2m╭─\u001b[0m\u001b[2m Options \u001b[0m\u001b[2m───────────────────────────────────────────────────────────────────\u001b[0m\u001b[2m─╮\u001b[0m\n",
      "\u001b[2m│\u001b[0m \u001b[1;36m-\u001b[0m\u001b[1;36m-version\u001b[0m             \u001b[1;32m-v\u001b[0m      \u001b[1;33m    \u001b[0m  Show the version and exit                \u001b[2m│\u001b[0m\n",
      "\u001b[2m│\u001b[0m \u001b[1;36m-\u001b[0m\u001b[1;36m-file\u001b[0m                        \u001b[1;33mTEXT\u001b[0m  Makim config file \u001b[2m[default: .makim.yaml]\u001b[0m \u001b[2m│\u001b[0m\n",
      "\u001b[2m│\u001b[0m \u001b[1;36m-\u001b[0m\u001b[1;36m-dry\u001b[0m\u001b[1;36m-run\u001b[0m                     \u001b[1;33m    \u001b[0m  Execute the command in dry mode          \u001b[2m│\u001b[0m\n",
      "\u001b[2m│\u001b[0m \u001b[1;36m-\u001b[0m\u001b[1;36m-verbose\u001b[0m                     \u001b[1;33m    \u001b[0m  Execute the command in verbose mode      \u001b[2m│\u001b[0m\n",
      "\u001b[2m│\u001b[0m \u001b[1;36m-\u001b[0m\u001b[1;36m-install\u001b[0m\u001b[1;36m-completion\u001b[0m          \u001b[1;33m    \u001b[0m  Install completion for the current       \u001b[2m│\u001b[0m\n",
      "\u001b[2m│\u001b[0m                                     shell.                                   \u001b[2m│\u001b[0m\n",
      "\u001b[2m│\u001b[0m \u001b[1;36m-\u001b[0m\u001b[1;36m-show\u001b[0m\u001b[1;36m-completion\u001b[0m             \u001b[1;33m    \u001b[0m  Show completion for the current shell,   \u001b[2m│\u001b[0m\n",
      "\u001b[2m│\u001b[0m                                     to copy it or customize the              \u001b[2m│\u001b[0m\n",
      "\u001b[2m│\u001b[0m                                     installation.                            \u001b[2m│\u001b[0m\n",
      "\u001b[2m│\u001b[0m \u001b[1;36m-\u001b[0m\u001b[1;36m-help\u001b[0m                        \u001b[1;33m    \u001b[0m  Show this message and exit.              \u001b[2m│\u001b[0m\n",
      "\u001b[2m╰──────────────────────────────────────────────────────────────────────────────╯\u001b[0m\n",
      "\u001b[2m╭─\u001b[0m\u001b[2m Commands \u001b[0m\u001b[2m──────────────────────────────────────────────────────────────────\u001b[0m\u001b[2m─╮\u001b[0m\n",
      "\u001b[2m│\u001b[0m \u001b[1;36mclean.tmp      \u001b[0m\u001b[1;36m \u001b[0m Use this target to clean up temporary files                 \u001b[2m│\u001b[0m\n",
      "\u001b[2m│\u001b[0m \u001b[1;36mtests.unit     \u001b[0m\u001b[1;36m \u001b[0m Build the program                                           \u001b[2m│\u001b[0m\n",
      "\u001b[2m╰──────────────────────────────────────────────────────────────────────────────╯\u001b[0m\n",
      "                                                                                \n",
      " If you have any problem, open an issue at:                                     \n",
      " https://github.com/osl-incubator/makim                                         \n",
      "                                                                                \n",
      "\n"
     ]
    }
   ],
   "source": [
    "!makim --help"
   ]
  },
  {
   "cell_type": "markdown",
   "id": "be6b96d3-79f8-48e2-8e9e-edeb38a4dc58",
   "metadata": {},
   "source": [
    "This command displays all the targets defined in your `.makim.yaml` file, along with their descriptions and available arguments, making it easier to understand and utilize your configurations.\n",
    "\n",
    "### Executing Your First Commands\n",
    "\n",
    "With your `.makim.yaml` file set up, you can begin to automate your tasks. Here are some examples:\n",
    "\n",
    "- **Clean Temporary Files**: Simply run `makim clean.tmp` to execute the clean process.\n",
    "  \n",
    "- **Run unit tests**: Use `makim unit.tests` to start the build process. If you need to ensure a clean state before building, you can pass the `--clean` flag as such: `makim tests.unit --clean`."
   ]
  },
  {
   "cell_type": "code",
   "execution_count": 4,
   "id": "535b89a1-cb6c-48ce-b4d3-2a9296c97f2b",
   "metadata": {},
   "outputs": [
    {
     "name": "stdout",
     "output_type": "stream",
     "text": [
      "Makim file: .makim.yaml\n",
      "Cleaning up...\n"
     ]
    }
   ],
   "source": [
    "!makim clean.tmp"
   ]
  },
  {
   "cell_type": "code",
   "execution_count": 5,
   "id": "6c997aeb-eed5-4801-8bfb-dad26bb72dcb",
   "metadata": {},
   "outputs": [
    {
     "name": "stdout",
     "output_type": "stream",
     "text": [
      "Makim file: .makim.yaml\n",
      "Runnint unit tests...\n"
     ]
    }
   ],
   "source": [
    "!makim tests.unit"
   ]
  },
  {
   "cell_type": "markdown",
   "id": "48ed3970-3854-49cb-8109-53a38a72d8d4",
   "metadata": {},
   "source": [
    "In the case you time your command wrong, **Makim** will suggest you some alternative:"
   ]
  },
  {
   "cell_type": "code",
   "execution_count": 6,
   "id": "800ad2a4-0c45-4b1a-b4ef-927ab1230e60",
   "metadata": {},
   "outputs": [
    {
     "name": "stdout",
     "output_type": "stream",
     "text": [
      "\u001b[33mUsage: \u001b[0mmakim [OPTIONS] COMMAND [ARGS]...\n",
      "\u001b[2mTry \u001b[0m\u001b[2;34m'makim \u001b[0m\u001b[1;2;34m-\u001b[0m\u001b[1;2;34m-help\u001b[0m\u001b[2;34m'\u001b[0m\u001b[2m for help.\u001b[0m\n",
      "\u001b[31m╭─\u001b[0m\u001b[31m Error \u001b[0m\u001b[31m─────────────────────────────────────────────────────────────────────\u001b[0m\u001b[31m─╮\u001b[0m\n",
      "\u001b[31m│\u001b[0m No such command 'tests.unittest'.                                            \u001b[31m│\u001b[0m\n",
      "\u001b[31m╰──────────────────────────────────────────────────────────────────────────────╯\u001b[0m\n",
      "\u001b[31mCommand tests.unittest not found. Did you mean tests.unit'?\u001b[0m\n"
     ]
    }
   ],
   "source": [
    "!makim tests.unittest"
   ]
  },
  {
   "cell_type": "markdown",
   "id": "aae58d63-d028-47b1-a57e-fb21fc3f9216",
   "metadata": {},
   "source": [
    "**Makim** CLI is empowered by **Typer**, and it allows us to have auto-completion for Makim groups and targets! If you want to install, you can run the following command:"
   ]
  },
  {
   "cell_type": "code",
   "execution_count": 7,
   "id": "5839d8fb-0a4c-43bf-8b11-1a1ab36cc178",
   "metadata": {},
   "outputs": [
    {
     "name": "stdout",
     "output_type": "stream",
     "text": [
      "\u001b[32mbash completion installed in /home/xmn/.bash_completions/makim.sh\u001b[0m\n",
      "Completion will take effect once you restart the terminal\n"
     ]
    }
   ],
   "source": [
    "!makim --install-completion "
   ]
  },
  {
   "cell_type": "markdown",
   "id": "962a1698-31b4-4223-b08d-e065d5463bd9",
   "metadata": {},
   "source": [
    "After this command you will need to restart the terminal in order to use this auto-completion feature."
   ]
  },
  {
   "cell_type": "markdown",
   "id": "2cc6ebb1-304b-4aab-b5f8-ca72289e1815",
   "metadata": {},
   "source": [
    "## Advanced Configuration\n",
    "\n",
    "As you become more familiar with `Makim`, you might want to explore advanced features, such as:\n",
    "\n",
    "- **Defining Complex Dependencies**: `Makim` allows for sophisticated dependency management, including conditional dependencies based on arguments passed to targets.\n",
    "\n",
    "- **Organizing Targets into Groups**: For larger projects, organizing targets into groups can enhance readability and maintainability.\n",
    "\n",
    "- **Environment Variable Integration**: Utilize `env` and `env-file` configurations to manage environment variables across different scopes (global, group, and target).\n",
    "\n",
    "- **Template Support with Jinja2**: The switch to `${{ some_variable }}` for Jinja2 template delimiters avoids conflicts with formatting tools like `prettier`, allowing for dynamic insertion of variables and arguments in your commands.\n",
    "\n",
    "## Let's play with different Examples!\n",
    "\n",
    "### Interpreters\n",
    "\n",
    "As mentioned before, **Makim** can run code with different interpreters/shell languages. By default, it uses **xonsh**. If you are not familiarized with xonsh, please take a look into its official documentation: <https://xon.sh/>.\n",
    "\n",
    "In this example,  we will run simple commands with different interpreters/shell languages."
   ]
  },
  {
   "cell_type": "code",
   "execution_count": 8,
   "id": "0d942c28-d13a-4131-b5e4-113667a69c3e",
   "metadata": {},
   "outputs": [
    {
     "name": "stdout",
     "output_type": "stream",
     "text": [
      "Overwriting .env\n"
     ]
    }
   ],
   "source": [
    "%%writefile .env\n",
    "MSG_PREFIX=\"Running Makim: Hello, World,\""
   ]
  },
  {
   "cell_type": "code",
   "execution_count": 9,
   "id": "f68e8008-f0f1-4ead-a42e-4e524fc03c22",
   "metadata": {},
   "outputs": [
    {
     "name": "stdout",
     "output_type": "stream",
     "text": [
      "Overwriting .makim.yaml\n"
     ]
    }
   ],
   "source": [
    "%%writefile .makim.yaml\n",
    "version: 1.0\n",
    "env-file: .env\n",
    "groups:\n",
    "  tests:\n",
    "    targets:\n",
    "      node:\n",
    "        help: Test using nodejs\n",
    "        shell: node\n",
    "        run: console.log(\"${{ env.MSG_PREFIX }} from NodeJS!\");\n",
    "      perl:\n",
    "        help: Test using perl\n",
    "        shell: perl\n",
    "        run: print \"${{ env.MSG_PREFIX }} from Perl!\\n\";\n",
    "\n",
    "      python:\n",
    "        help: Test using php\n",
    "        shell: python\n",
    "        run: print(\"${{ env.MSG_PREFIX }} from Python!\")\n",
    "\n",
    "      r:\n",
    "        help: Test using R\n",
    "        shell: Rscript\n",
    "        run: print(\"${{ env.MSG_PREFIX }} from R!\")\n",
    "\n",
    "      sh:\n",
    "        help: Test using sh\n",
    "        shell: sh\n",
    "        run: echo \"${{ env.MSG_PREFIX }} from sh!\"\n",
    "\n",
    "      run-all:\n",
    "        help: Run tests for all the other targets\n",
    "        dependencies:\n",
    "          - target: node\n",
    "          - target: perl\n",
    "          - target: python\n",
    "          - target: r\n",
    "          - target: sh"
   ]
  },
  {
   "cell_type": "code",
   "execution_count": 10,
   "id": "ce809dd8-7db4-4c56-8622-ec3411bad4cf",
   "metadata": {},
   "outputs": [
    {
     "name": "stdout",
     "output_type": "stream",
     "text": [
      "\u001b[1m                                                                                \u001b[0m\n",
      "\u001b[1m \u001b[0m\u001b[1;33mUsage: \u001b[0m\u001b[1mmakim [OPTIONS] COMMAND [ARGS]...\u001b[0m\u001b[1m                                      \u001b[0m\u001b[1m \u001b[0m\n",
      "\u001b[1m                                                                                \u001b[0m\n",
      " Makim is a tool that helps you to organize and simplify your helper commands.  \n",
      "                                                                                \n",
      "\u001b[2m╭─\u001b[0m\u001b[2m Options \u001b[0m\u001b[2m───────────────────────────────────────────────────────────────────\u001b[0m\u001b[2m─╮\u001b[0m\n",
      "\u001b[2m│\u001b[0m \u001b[1;36m-\u001b[0m\u001b[1;36m-version\u001b[0m             \u001b[1;32m-v\u001b[0m      \u001b[1;33m    \u001b[0m  Show the version and exit                \u001b[2m│\u001b[0m\n",
      "\u001b[2m│\u001b[0m \u001b[1;36m-\u001b[0m\u001b[1;36m-file\u001b[0m                        \u001b[1;33mTEXT\u001b[0m  Makim config file \u001b[2m[default: .makim.yaml]\u001b[0m \u001b[2m│\u001b[0m\n",
      "\u001b[2m│\u001b[0m \u001b[1;36m-\u001b[0m\u001b[1;36m-dry\u001b[0m\u001b[1;36m-run\u001b[0m                     \u001b[1;33m    \u001b[0m  Execute the command in dry mode          \u001b[2m│\u001b[0m\n",
      "\u001b[2m│\u001b[0m \u001b[1;36m-\u001b[0m\u001b[1;36m-verbose\u001b[0m                     \u001b[1;33m    \u001b[0m  Execute the command in verbose mode      \u001b[2m│\u001b[0m\n",
      "\u001b[2m│\u001b[0m \u001b[1;36m-\u001b[0m\u001b[1;36m-install\u001b[0m\u001b[1;36m-completion\u001b[0m          \u001b[1;33m    \u001b[0m  Install completion for the current       \u001b[2m│\u001b[0m\n",
      "\u001b[2m│\u001b[0m                                     shell.                                   \u001b[2m│\u001b[0m\n",
      "\u001b[2m│\u001b[0m \u001b[1;36m-\u001b[0m\u001b[1;36m-show\u001b[0m\u001b[1;36m-completion\u001b[0m             \u001b[1;33m    \u001b[0m  Show completion for the current shell,   \u001b[2m│\u001b[0m\n",
      "\u001b[2m│\u001b[0m                                     to copy it or customize the              \u001b[2m│\u001b[0m\n",
      "\u001b[2m│\u001b[0m                                     installation.                            \u001b[2m│\u001b[0m\n",
      "\u001b[2m│\u001b[0m \u001b[1;36m-\u001b[0m\u001b[1;36m-help\u001b[0m                        \u001b[1;33m    \u001b[0m  Show this message and exit.              \u001b[2m│\u001b[0m\n",
      "\u001b[2m╰──────────────────────────────────────────────────────────────────────────────╯\u001b[0m\n",
      "\u001b[2m╭─\u001b[0m\u001b[2m Commands \u001b[0m\u001b[2m──────────────────────────────────────────────────────────────────\u001b[0m\u001b[2m─╮\u001b[0m\n",
      "\u001b[2m│\u001b[0m \u001b[1;36mtests.node           \u001b[0m\u001b[1;36m \u001b[0m Test using nodejs                                     \u001b[2m│\u001b[0m\n",
      "\u001b[2m│\u001b[0m \u001b[1;36mtests.perl           \u001b[0m\u001b[1;36m \u001b[0m Test using perl                                       \u001b[2m│\u001b[0m\n",
      "\u001b[2m│\u001b[0m \u001b[1;36mtests.python         \u001b[0m\u001b[1;36m \u001b[0m Test using php                                        \u001b[2m│\u001b[0m\n",
      "\u001b[2m│\u001b[0m \u001b[1;36mtests.r              \u001b[0m\u001b[1;36m \u001b[0m Test using R                                          \u001b[2m│\u001b[0m\n",
      "\u001b[2m│\u001b[0m \u001b[1;36mtests.run-all        \u001b[0m\u001b[1;36m \u001b[0m Run tests for all the other targets                   \u001b[2m│\u001b[0m\n",
      "\u001b[2m│\u001b[0m \u001b[1;36mtests.sh             \u001b[0m\u001b[1;36m \u001b[0m Test using sh                                         \u001b[2m│\u001b[0m\n",
      "\u001b[2m╰──────────────────────────────────────────────────────────────────────────────╯\u001b[0m\n",
      "                                                                                \n",
      " If you have any problem, open an issue at:                                     \n",
      " https://github.com/osl-incubator/makim                                         \n",
      "                                                                                \n",
      "\n"
     ]
    }
   ],
   "source": [
    "!makim --help"
   ]
  },
  {
   "cell_type": "markdown",
   "id": "14ed7f09-9bea-490d-ad3d-629ea4ee971f",
   "metadata": {},
   "source": [
    "Before we run these targets, we will need to install these dependences first:"
   ]
  },
  {
   "cell_type": "code",
   "execution_count": 11,
   "id": "defb03d3-404d-489b-9990-ed66552aa341",
   "metadata": {},
   "outputs": [],
   "source": [
    "!mamba install -q -y perl nodejs r-base sh "
   ]
  },
  {
   "cell_type": "markdown",
   "id": "402bf345-9a18-403f-be99-e428e7c78b97",
   "metadata": {},
   "source": [
    "Now, let's run all the targets using `run-all` that defines all the other targets as dependencies:"
   ]
  },
  {
   "cell_type": "code",
   "execution_count": 12,
   "id": "8f4e23ef-0238-4393-9747-8f945de40f79",
   "metadata": {},
   "outputs": [
    {
     "name": "stdout",
     "output_type": "stream",
     "text": [
      "Makim file: .makim.yaml\n",
      "Running Makim: Hello, World, from NodeJS!\n",
      "Running Makim: Hello, World, from Perl!\n",
      "Running Makim: Hello, World, from Python!\n",
      "[1] \"Running Makim: Hello, World, from R!\"\n",
      "Running Makim: Hello, World, from sh!\n"
     ]
    }
   ],
   "source": [
    "!makim tests.run-all"
   ]
  },
  {
   "cell_type": "markdown",
   "id": "d57e524f-9ddd-4e1e-9d90-e47154c0950d",
   "metadata": {},
   "source": [
    "If your interpreter allows you to debug, for example with Python or Xonsh with `breakpoint()`, you can add a breakpoint in your code, and you will be to debug your **Makim** target."
   ]
  },
  {
   "cell_type": "markdown",
   "id": "43d8808a-6b75-4e54-a193-4ba148de913a",
   "metadata": {},
   "source": [
    "### Using vars"
   ]
  },
  {
   "cell_type": "code",
   "execution_count": 13,
   "id": "ff7b4903-8caf-454b-828f-4ab6cf57d8fa",
   "metadata": {},
   "outputs": [
    {
     "name": "stdout",
     "output_type": "stream",
     "text": [
      "Overwriting .makim.yaml\n"
     ]
    }
   ],
   "source": [
    "%%writefile .makim.yaml\n",
    "version: 1.0\n",
    "\n",
    "vars:\n",
    "  project-name: \"my-project\"\n",
    "  dependencies:\n",
    "    \"dep1\": \"v1\"\n",
    "    \"dep2\": \"v1.1\"\n",
    "    \"dep3\": \"v2.3\"\n",
    "  authorized-users:\n",
    "    - admin1\n",
    "    - admin2\n",
    "    - admin3\n",
    "\n",
    "groups:\n",
    "  staging:\n",
    "    vars:\n",
    "      env-name: \"staging\"\n",
    "      staging-dependencies:\n",
    "        \"dep4\": \"v4.3\"\n",
    "        \"dep5\": \"v1.1.1\"\n",
    "      staging-authorized-users:\n",
    "        - staging1\n",
    "        - staging2\n",
    "        - staging3\n",
    "    targets:\n",
    "      create-users:\n",
    "        help: Create users for staging, this example uses jinja2 for loop.\n",
    "        # each target can also specify their `vars`, but it will not be used in this example\n",
    "        run: |\n",
    "          def create_user(username):\n",
    "              print(f\">>> creating user: {username} ... DONE!\")\n",
    "                                                                \n",
    "          print(\"create admin users:\")\n",
    "          {% for user in vars.authorized_users %}\n",
    "          create_user(\"${{ user }}\")\n",
    "          {% endfor %}\n",
    "\n",
    "          print(\"\\ncreate staging users:\")\n",
    "          {% for user in vars.staging_authorized_users %}\n",
    "          create_user(\"${{ user }}\")\n",
    "          {% endfor %}\n",
    "\n",
    "      install:\n",
    "        help: install deps for staging using native xonsh `for` loop (it could work with Python as well)\n",
    "        # each target can also specify their `vars`, but it will not be used in this example\n",
    "        run: |\n",
    "          def install(package, version):\n",
    "              print(f\">>> installing: {package}@{version} ... DONE!\")\n",
    "                                            \n",
    "          print(\"install global dependencies:\")\n",
    "          for package, version in ${{ vars.dependencies | safe }}.items():\n",
    "              install(package, version)\n",
    "\n",
    "          print(\"\\ninstall staging dependencies:\")\n",
    "          for package, version in ${{ vars.staging_dependencies | safe }}.items():\n",
    "              install(package, version)"
   ]
  },
  {
   "cell_type": "markdown",
   "id": "2b67905e-2e5b-4d54-bee8-eadcfe12cd66",
   "metadata": {},
   "source": [
    "Now, let's create the users for the staging environment:"
   ]
  },
  {
   "cell_type": "code",
   "execution_count": 14,
   "id": "89f4ea8e-b58e-4da3-9097-61deaf5e6c70",
   "metadata": {},
   "outputs": [
    {
     "name": "stdout",
     "output_type": "stream",
     "text": [
      "Makim file: .makim.yaml\n",
      "create admin users:\n",
      ">>> creating user: admin1 ... DONE!\n",
      ">>> creating user: admin2 ... DONE!\n",
      ">>> creating user: admin3 ... DONE!\n",
      "\n",
      "create staging users:\n",
      ">>> creating user: staging1 ... DONE!\n",
      ">>> creating user: staging2 ... DONE!\n",
      ">>> creating user: staging3 ... DONE!\n"
     ]
    }
   ],
   "source": [
    "!makim staging.create-users"
   ]
  },
  {
   "cell_type": "markdown",
   "id": "cd07e3af-4527-4530-952e-01848701e185",
   "metadata": {},
   "source": [
    "Last but not least, let's run the install target:"
   ]
  },
  {
   "cell_type": "code",
   "execution_count": 15,
   "id": "2eb7291c-610a-427c-a970-bb923b17678e",
   "metadata": {},
   "outputs": [
    {
     "name": "stdout",
     "output_type": "stream",
     "text": [
      "Makim file: .makim.yaml\n",
      "install global dependencies:\n",
      ">>> installing: dep1@v1 ... DONE!\n",
      ">>> installing: dep2@v1.1 ... DONE!\n",
      ">>> installing: dep3@v2.3 ... DONE!\n",
      "\n",
      "install staging dependencies:\n",
      ">>> installing: dep4@v4.3 ... DONE!\n",
      ">>> installing: dep5@v1.1.1 ... DONE!\n"
     ]
    }
   ],
   "source": [
    "!makim staging.install"
   ]
  },
  {
   "cell_type": "markdown",
   "id": "fcfc9258-a97d-4378-9cbb-e1be2678c801",
   "metadata": {},
   "source": [
    "### Defining Arguments\n",
    "\n",
    "As we saw in the first example, **Makim** also allow us to use arguments. But we are not just able to define arguments, but we can also call dependencies with arguments and define a pre-conditional for that dependency as well.\n",
    "\n",
    "Let's see how it works in practice:"
   ]
  },
  {
   "cell_type": "code",
   "execution_count": 16,
   "id": "cb5c198b-4644-4e92-b1a4-cc66c55fc29d",
   "metadata": {},
   "outputs": [
    {
     "name": "stdout",
     "output_type": "stream",
     "text": [
      "Overwriting .makim.yaml\n"
     ]
    }
   ],
   "source": [
    "%%writefile .makim.yaml\n",
    "version: 1.0.0\n",
    "groups:\n",
    "  print:\n",
    "    env-file: .env\n",
    "    targets:\n",
    "      name:\n",
    "        help: Print given name\n",
    "        args:\n",
    "          name:\n",
    "            type: str\n",
    "            required: true\n",
    "        run: print(\"${{ args.name }}\")\n",
    "      list:\n",
    "        help: Build the program\n",
    "        args:\n",
    "          i-am-sure:\n",
    "            type: bool\n",
    "        dependencies:\n",
    "          - target: print.name\n",
    "            if: ${{ args.i_am_sure == true }}\n",
    "            args:\n",
    "              name: Mary\n",
    "          - target: print.name\n",
    "            if: ${{ args.i_am_sure == true }}\n",
    "            args:\n",
    "              name: John\n",
    "          - target: print.name\n",
    "            if: ${{ args.i_am_sure == true }}\n",
    "            args:\n",
    "              name: Ellen\n",
    "          - target: print.name\n",
    "            if: ${{ args.i_am_sure == true }}\n",
    "            args:\n",
    "              name: Marc"
   ]
  },
  {
   "cell_type": "code",
   "execution_count": 17,
   "id": "551d69e9-d074-4b70-b868-f7e9fa6faba6",
   "metadata": {},
   "outputs": [
    {
     "name": "stdout",
     "output_type": "stream",
     "text": [
      "Makim file: .makim.yaml\n"
     ]
    }
   ],
   "source": [
    "!makim print.list"
   ]
  },
  {
   "cell_type": "code",
   "execution_count": 18,
   "id": "dfe7b8ba-f438-4f62-88fc-e99e11a15bee",
   "metadata": {},
   "outputs": [
    {
     "name": "stdout",
     "output_type": "stream",
     "text": [
      "Makim file: .makim.yaml\n",
      "Mary\n",
      "John\n",
      "Ellen\n",
      "Marc\n"
     ]
    }
   ],
   "source": [
    "!makim print.list --i-am-sure"
   ]
  },
  {
   "cell_type": "markdown",
   "id": "5f7c72db-31d6-47f5-a8aa-932f3e5bf2a7",
   "metadata": {},
   "source": [
    "### Using environment variables\n",
    "\n",
    "In the examples above, we have seem some usage of environment variables. In this section, we will have a quick overview about how to use it.\n",
    "\n",
    "**Makim** allows us to use environment variables from environment files (.env) or directly inside the **Makim** configuration file in all three scopes: global, group and/or target.\n",
    "\n",
    "Let's take a look into how it would look like:"
   ]
  },
  {
   "cell_type": "code",
   "execution_count": 19,
   "id": "6e0c4c5a-ef21-43e0-ac18-40672850b93a",
   "metadata": {},
   "outputs": [
    {
     "name": "stdout",
     "output_type": "stream",
     "text": [
      "Overwriting .env\n"
     ]
    }
   ],
   "source": [
    "%%writefile .env\n",
    "ENV=dev"
   ]
  },
  {
   "cell_type": "code",
   "execution_count": 20,
   "id": "678192e5-7af3-4862-bc76-4beecf030bd2",
   "metadata": {},
   "outputs": [
    {
     "name": "stdout",
     "output_type": "stream",
     "text": [
      "Overwriting .makim.yaml\n"
     ]
    }
   ],
   "source": [
    "%%writefile .makim.yaml\n",
    "version: 1.0\n",
    "env-file: .env\n",
    "env:\n",
    "  GLOBAL_VAR: \"1\"\n",
    "groups:\n",
    "  global-scope:\n",
    "    env:\n",
    "      GROUP_VAR: \"2\"\n",
    "    targets:\n",
    "      test-var-env-file:\n",
    "        help: Test env variable defined in the global scope from env-file\n",
    "        run: |\n",
    "          import os\n",
    "          assert str(os.getenv(\"ENV\")) == \"dev\"\n",
    "\n",
    "      test-var-env:\n",
    "        help: Test env variable defined in the global scope in `env` section\n",
    "        env:\n",
    "          TARGET_VAR: \"3\"\n",
    "        run: |\n",
    "          import os\n",
    "          # you can get an environment variable directly with xonsh/python\n",
    "          assert str(os.getenv(\"GLOBAL_VAR\")) == \"1\"\n",
    "          # or you can get an environment variable using jinja2 tag\n",
    "          assert \"${{ env.GROUP_VAR }}\" == \"2\"\n",
    "          assert \"${{ env.get(\"TARGET_VAR\") }}\" == \"3\"\n",
    "          assert \"${{ env.get(\"UNKNOWN_TARGET_VAR\", \"4\") }}\" == \"4\""
   ]
  },
  {
   "cell_type": "code",
   "execution_count": 21,
   "id": "6221cfec-19b5-450e-853e-737ce0ed024f",
   "metadata": {},
   "outputs": [
    {
     "name": "stdout",
     "output_type": "stream",
     "text": [
      "Makim file: .makim.yaml\n"
     ]
    }
   ],
   "source": [
    "!makim global-scope.test-var-env-file"
   ]
  },
  {
   "cell_type": "code",
   "execution_count": 22,
   "id": "548a68cf-b597-4eb9-8438-eb97729dcb46",
   "metadata": {},
   "outputs": [
    {
     "name": "stdout",
     "output_type": "stream",
     "text": [
      "Makim file: .makim.yaml\n"
     ]
    }
   ],
   "source": [
    "!makim global-scope.test-var-env"
   ]
  },
  {
   "cell_type": "markdown",
   "id": "ce5e09d7-bf8b-4b0e-9127-48958ee79601",
   "metadata": {},
   "source": [
    "### Using working-directory\n",
    "\n",
    "**Makim** allows users to define specific working directory for any of the scopes: global, group, and/or target.\n",
    "\n",
    "Let's see a simple example about how to use that:"
   ]
  },
  {
   "cell_type": "code",
   "execution_count": 23,
   "id": "65335daf-ac06-497c-a0f8-6dbb9f5a570b",
   "metadata": {},
   "outputs": [
    {
     "name": "stdout",
     "output_type": "stream",
     "text": [
      "Overwriting .makim.yaml\n"
     ]
    }
   ],
   "source": [
    "%%writefile .makim.yaml\n",
    "version: 1.0\n",
    "working-directory: \"/tmp\"\n",
    "\n",
    "groups:\n",
    "  check-wd:\n",
    "    targets:\n",
    "      is-tmp:\n",
    "        help: Test if working directory is `tmp`\n",
    "        run: |\n",
    "          import os\n",
    "          print(os.getcwd())\n",
    "          assert os.getcwd() == \"/tmp\""
   ]
  },
  {
   "cell_type": "code",
   "execution_count": 24,
   "id": "0938bcee-26fb-4028-82f6-bbed8453eba7",
   "metadata": {},
   "outputs": [
    {
     "name": "stdout",
     "output_type": "stream",
     "text": [
      "Makim file: .makim.yaml\n",
      "/tmp\n"
     ]
    }
   ],
   "source": [
    "!makim check-wd.is-tmp"
   ]
  },
  {
   "cell_type": "markdown",
   "id": "ae987426-9ead-4375-bddf-b5ded48aeb1a",
   "metadata": {},
   "source": [
    "With these examples, we conclude this tutorial. This cover almost all the features, but of course, if you start to explore **Makim** you will find more interest ways to use the features presented here."
   ]
  },
  {
   "cell_type": "markdown",
   "id": "a5f5fb97-503f-4a3b-92a7-8ecef4d9687c",
   "metadata": {},
   "source": [
    "## How to Contribute\n",
    "\n",
    "If you liked **Makim**, consider to contribute to the project! It will help us to move forward faster and help more people!\n",
    "\n",
    "You can take a look into the project in our GitHub repo: https://github.com/osl-incubator/makim\n",
    "\n",
    "For more information about how to contribute, please take a look into its [**Contributing Guide**](https://osl-incubator.github.io/makim/contributing/).\n",
    "\n",
    "If you have any feedback about the tool, such as how we could improve the features and the user experience, please open an [issue](https://github.com/osl-incubator/makim/issues).\n",
    "Any input and insights would be very appreciated!"
   ]
  },
  {
   "cell_type": "markdown",
   "id": "822a5ed4-6941-4761-9a7b-9910dd075849",
   "metadata": {},
   "source": [
    "## Conclusion\n",
    "\n",
    "`Makim` represents a significant leap forward in build automation and dependency task management, combining the robust functionality of `make` with the clarity and simplicity of YAML. By following this guide, you should now have a solid foundation to start utilizing **Makim**."
   ]
  }
 ],
 "metadata": {
  "kernelspec": {
   "display_name": "Python 3 (ipykernel)",
   "language": "python",
   "name": "python3"
  },
  "language_info": {
   "codemirror_mode": {
    "name": "ipython",
    "version": 3
   },
   "file_extension": ".py",
   "mimetype": "text/x-python",
   "name": "python",
   "nbconvert_exporter": "python",
   "pygments_lexer": "ipython3",
   "version": "3.11.7"
  }
 },
 "nbformat": 4,
 "nbformat_minor": 5
}
