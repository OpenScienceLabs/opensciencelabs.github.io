{
 "cells": [
  {
   "cell_type": "raw",
   "metadata": {
    "id": "znCZLvtMCGvJ"
   },
   "source": [
    "---\n",
    "title: Exploring the Usability of FHIR Resources in Python\n",
    "slug: exploring-the-usability-of-fhir-resources-in-python\n",
    "date: 2024-01-05\n",
    "authors: [\"Satarupa Deb\"]\n",
    "tags: [open-source, json, FHIR Resources, python]\n",
    "categories: [Python, Public Health, Healthcare]\n",
    "description: |\n",
    "  Fast Healthcare Interoperability Resources (FHIR) has emerged as a powerful specification for exchanging healthcare information electronically. In the realm of Python development, the fhir.resources module stands out as a comprehensive toolkit, facilitating the manipulation of FHIR resources with ease. In this technical blog, we'll delve into the features and usability of this module, exploring its capabilities, installation, and advanced functionalities.\n",
    "thumbnail: \"/image.png\"\n",
    "template: \"blog-post.html\"\n",
    "---"
   ]
  },
  {
   "cell_type": "markdown",
   "metadata": {
    "id": "faB59d99mIW-"
   },
   "source": [
    "# Exploring the Usability of FHIR Resources in Python\n",
    "\n",
    "## Introduction\n",
    "\n",
    "Fast Healthcare Interoperability Resources (FHIR) has emerged as a powerful specification for exchanging healthcare information electronically. In the realm of Python development, the `fhir.resources` library stands out as a comprehensive toolkit, facilitating the manipulation of FHIR resources with ease. In this technical blog, we'll delve into the features and usability of this module, exploring its capabilities, installation, and advanced functionalities.\n",
    "\n",
    "## Overview of FHIR Resources\n",
    "\n",
    "The `fhir.resources` module is designed to provide a seamless experience for working with FHIR resources in Python. Here are some key highlights:\n",
    "\n",
    "- **Modularity**: FHIR adopts a modular approach with a set of resources representing different healthcare data types (e.g., patients, observations, diagnoses). This modular design allows for flexibility and extensibility.\n",
    "\n",
    "- **Powered by Pydantic**: Leveraging the power of Pydantic, the module ensures faster performance and includes optional support for orjson, enhancing overall efficiency.\n",
    "\n",
    "- **Compatibility with ORM**: The module seamlessly integrates with Object-Relational Mapping (ORM), making it compatible with various database systems.\n",
    "\n",
    "- **FHIR Version Support**: The module supports FHIR Release 5 (version 5.0.0) by default, with previous versions available as sub-packages. This ensures backward compatibility and smooth transitions between releases.\n",
    "\n",
    "- **Easy Installation**: A simple `pip install fhir.resources` or `easy_install fhir.resources` is sufficient for installation. For the development version, cloning the GitHub repository is recommended."
   ]
  },
  {
   "cell_type": "code",
   "execution_count": 1,
   "metadata": {},
   "outputs": [],
   "source": [
    "!pip install fhir.resources -q"
   ]
  },
  {
   "cell_type": "markdown",
   "metadata": {
    "id": "faB59d99mIW-"
   },
   "source": [
    "## Basic Usage Examples\n",
    "\n",
    "### Example 1: Creating an Organization Resource"
   ]
  },
  {
   "cell_type": "code",
   "execution_count": 2,
   "metadata": {
    "id": "faB59d99mIW-"
   },
   "outputs": [
    {
     "ename": "ValidationError",
     "evalue": "1 validation error for Organization\naddress\n  extra fields not permitted (type=value_error.extra)",
     "output_type": "error",
     "traceback": [
      "\u001b[0;31m---------------------------------------------------------------------------\u001b[0m",
      "\u001b[0;31mValidationError\u001b[0m                           Traceback (most recent call last)",
      "Cell \u001b[0;32mIn[2], line 11\u001b[0m\n\u001b[1;32m      2\u001b[0m \u001b[38;5;28;01mfrom\u001b[39;00m \u001b[38;5;21;01mfhir\u001b[39;00m\u001b[38;5;21;01m.\u001b[39;00m\u001b[38;5;21;01mresources\u001b[39;00m\u001b[38;5;21;01m.\u001b[39;00m\u001b[38;5;21;01maddress\u001b[39;00m \u001b[38;5;28;01mimport\u001b[39;00m Address\n\u001b[1;32m      4\u001b[0m data \u001b[38;5;241m=\u001b[39m {\n\u001b[1;32m      5\u001b[0m     \u001b[38;5;124m\"\u001b[39m\u001b[38;5;124mid\u001b[39m\u001b[38;5;124m\"\u001b[39m: \u001b[38;5;124m\"\u001b[39m\u001b[38;5;124mf001\u001b[39m\u001b[38;5;124m\"\u001b[39m,\n\u001b[1;32m      6\u001b[0m     \u001b[38;5;124m\"\u001b[39m\u001b[38;5;124mactive\u001b[39m\u001b[38;5;124m\"\u001b[39m: \u001b[38;5;28;01mTrue\u001b[39;00m,\n\u001b[1;32m      7\u001b[0m     \u001b[38;5;124m\"\u001b[39m\u001b[38;5;124mname\u001b[39m\u001b[38;5;124m\"\u001b[39m: \u001b[38;5;124m\"\u001b[39m\u001b[38;5;124mAcme Corporation\u001b[39m\u001b[38;5;124m\"\u001b[39m,\n\u001b[1;32m      8\u001b[0m     \u001b[38;5;124m\"\u001b[39m\u001b[38;5;124maddress\u001b[39m\u001b[38;5;124m\"\u001b[39m: [{\u001b[38;5;124m\"\u001b[39m\u001b[38;5;124mcountry\u001b[39m\u001b[38;5;124m\"\u001b[39m: \u001b[38;5;124m\"\u001b[39m\u001b[38;5;124mSwitzerland\u001b[39m\u001b[38;5;124m\"\u001b[39m}]\n\u001b[1;32m      9\u001b[0m }\n\u001b[0;32m---> 11\u001b[0m org \u001b[38;5;241m=\u001b[39m \u001b[43mOrganization\u001b[49m\u001b[43m(\u001b[49m\u001b[38;5;241;43m*\u001b[39;49m\u001b[38;5;241;43m*\u001b[39;49m\u001b[43mdata\u001b[49m\u001b[43m)\u001b[49m\n\u001b[1;32m     13\u001b[0m \u001b[38;5;28;01massert\u001b[39;00m org\u001b[38;5;241m.\u001b[39mresource_type \u001b[38;5;241m==\u001b[39m \u001b[38;5;124m\"\u001b[39m\u001b[38;5;124mOrganization\u001b[39m\u001b[38;5;124m\"\u001b[39m\n\u001b[1;32m     14\u001b[0m \u001b[38;5;28;01massert\u001b[39;00m \u001b[38;5;28misinstance\u001b[39m(org\u001b[38;5;241m.\u001b[39maddress[\u001b[38;5;241m0\u001b[39m], Address)\n",
      "File \u001b[0;32m~/miniforge3/envs/osl-web/lib/python3.11/site-packages/fhir/resources/core/fhirabstractmodel.py:105\u001b[0m, in \u001b[0;36mFHIRAbstractModel.__init__\u001b[0;34m(__pydantic_self__, **data)\u001b[0m\n\u001b[1;32m    102\u001b[0m \u001b[38;5;28;01mif\u001b[39;00m errors:\n\u001b[1;32m    103\u001b[0m     \u001b[38;5;28;01mraise\u001b[39;00m ValidationError(errors, __pydantic_self__\u001b[38;5;241m.\u001b[39m\u001b[38;5;18m__class__\u001b[39m)\n\u001b[0;32m--> 105\u001b[0m \u001b[43mBaseModel\u001b[49m\u001b[38;5;241;43m.\u001b[39;49m\u001b[38;5;21;43m__init__\u001b[39;49m\u001b[43m(\u001b[49m\u001b[43m__pydantic_self__\u001b[49m\u001b[43m,\u001b[49m\u001b[43m \u001b[49m\u001b[38;5;241;43m*\u001b[39;49m\u001b[38;5;241;43m*\u001b[39;49m\u001b[43mdata\u001b[49m\u001b[43m)\u001b[49m\n",
      "File \u001b[0;32m~/miniforge3/envs/osl-web/lib/python3.11/site-packages/pydantic/v1/main.py:341\u001b[0m, in \u001b[0;36mBaseModel.__init__\u001b[0;34m(__pydantic_self__, **data)\u001b[0m\n\u001b[1;32m    339\u001b[0m values, fields_set, validation_error \u001b[38;5;241m=\u001b[39m validate_model(__pydantic_self__\u001b[38;5;241m.\u001b[39m\u001b[38;5;18m__class__\u001b[39m, data)\n\u001b[1;32m    340\u001b[0m \u001b[38;5;28;01mif\u001b[39;00m validation_error:\n\u001b[0;32m--> 341\u001b[0m     \u001b[38;5;28;01mraise\u001b[39;00m validation_error\n\u001b[1;32m    342\u001b[0m \u001b[38;5;28;01mtry\u001b[39;00m:\n\u001b[1;32m    343\u001b[0m     object_setattr(__pydantic_self__, \u001b[38;5;124m'\u001b[39m\u001b[38;5;124m__dict__\u001b[39m\u001b[38;5;124m'\u001b[39m, values)\n",
      "\u001b[0;31mValidationError\u001b[0m: 1 validation error for Organization\naddress\n  extra fields not permitted (type=value_error.extra)"
     ]
    }
   ],
   "source": [
    "from fhir.resources.organization import Organization\n",
    "from fhir.resources.address import Address\n",
    "\n",
    "data = {\n",
    "    \"id\": \"f001\",\n",
    "    \"active\": True,\n",
    "    \"name\": \"Acme Corporation\",\n",
    "    \"address\": [{\"country\": \"Switzerland\"}]\n",
    "}\n",
    "\n",
    "org = Organization(**data)\n",
    "\n",
    "assert org.resource_type == \"Organization\"\n",
    "assert isinstance(org.address[0], Address)\n",
    "assert org.address[0].country == \"Switzerland\"\n",
    "assert org.dict()['active'] is True"
   ]
  },
  {
   "cell_type": "markdown",
   "metadata": {
    "id": "faB59d99mIW-"
   },
   "source": [
    "### Example 2: Creating a Resource from JSON String"
   ]
  },
  {
   "cell_type": "code",
   "execution_count": null,
   "metadata": {
    "id": "faB59d99mIW-"
   },
   "outputs": [],
   "source": [
    "from fhir.resources.organization import Organization\n",
    "from fhir.resources.address import Address\n",
    "\n",
    "json_str = '{\"resourceType\": \"Organization\", \"id\": \"f001\", \"active\": true, \"name\": \"Acme Corporation\", \"address\": [{\"country\": \"Switzerland\"}]}'\n",
    "\n",
    "org = Organization.parse_raw(json_str)\n",
    "\n",
    "assert isinstance(org.address[0], Address)\n",
    "assert org.address[0].country == \"Switzerland\"\n",
    "assert org.dict()['active'] is True"
   ]
  },
  {
   "cell_type": "markdown",
   "metadata": {
    "id": "faB59d99mIW-"
   },
   "source": [
    "### Example 3: Creating a Patient Resource from JSON Object"
   ]
  },
  {
   "cell_type": "code",
   "execution_count": null,
   "metadata": {
    "id": "faB59d99mIW-"
   },
   "outputs": [],
   "source": [
    "from fhir.resources.patient import Patient\n",
    "from fhir.resources.humanname import HumanName\n",
    "from datetime import date\n",
    "\n",
    "json_obj = {\n",
    "    \"resourceType\": \"Patient\",\n",
    "    \"id\": \"p001\",\n",
    "    \"active\": True,\n",
    "    \"name\": [{\"text\": \"Adam Smith\"}],\n",
    "    \"birthDate\": \"1985-06-12\"\n",
    "}\n",
    "\n",
    "pat = Patient.parse_obj(json_obj)\n",
    "\n",
    "assert isinstance(pat.name[0], HumanName)\n",
    "assert pat.birthDate == date(year=1985, month=6, day=12)\n",
    "assert pat.active is True"
   ]
  },
  {
   "cell_type": "markdown",
   "metadata": {
    "id": "faB59d99mIW-"
   },
   "source": [
    "## Advanced Features\n",
    "\n",
    "* **FHIR Comments (JSON)**: FHIR comments in JSON are supported, providing a way to include comments within the data.\n",
    "* **Custom Validators**: The module allows the creation and attachment of custom validators, enhancing data validation based on specific requirements.\n",
    "* **ENUM Validator**: Enforcing ENUM constraints is supported through custom validators, ensuring that field values adhere to specified enumerations.\n",
    "* **Reference Validator**: The module provides enum-like lists of permitted resource types through the `enum_reference_types` field property.\n",
    "* **Usages of orjson**: The module seamlessly integrates with orjson, a high-performance JSON library, offering faster serialization and deserialization.\n",
    "* **XML Support**: In addition to JSON, the module supports XML serialization and deserialization, with the ability to validate data against FHIR XML schema.\n",
    "* **YAML Support**: As an experimental feature, YAML support is included for export/import operations.\n",
    "\n",
    "## Conclusion\n",
    "\n",
    "The `fhir.resources` module provides a robust and versatile toolkit for working with FHIR resources in Python. With its modular design, compatibility with modern Python features, and support for various data formats, it simplifies the development of healthcare applications and APIs. Whether you are dealing with basic resource creation or exploring advanced functionalities like custom validators, this module caters to a wide range of use cases in the healthcare domain.\n",
    "\n",
    "## References\n",
    "- [FHIR® Resources (R5, R4B, STU3, DSTU2)](https://github.com/nazrulworld/fhir.resources)"
   ]
  }
 ],
 "metadata": {
  "colab": {
   "provenance": [],
   "toc_visible": true
  },
  "kernelspec": {
   "display_name": "Python 3 (ipykernel)",
   "language": "python",
   "name": "python3"
  },
  "language_info": {
   "codemirror_mode": {
    "name": "ipython",
    "version": 3
   },
   "file_extension": ".py",
   "mimetype": "text/x-python",
   "name": "python",
   "nbconvert_exporter": "python",
   "pygments_lexer": "ipython3",
   "version": "3.11.7"
  }
 },
 "nbformat": 4,
 "nbformat_minor": 4
}
