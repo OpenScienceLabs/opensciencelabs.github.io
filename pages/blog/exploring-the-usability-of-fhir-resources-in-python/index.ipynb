{
 "cells": [
  {
   "cell_type": "raw",
   "id": "64f7d801-af57-4d84-8451-97a625d27602",
   "metadata": {},
   "source": [
    "title: \"Exploring the Usability of FHIR Resources in Python\" \n",
    "slug:exploring-the-usability-of-fhir-resources-in-python \n",
    "date: 2024-01-05 \n",
    "authors: [\"Satarupa Deb\"] \n",
    "tags: [open-source, json, FHIR Resources, python] \n",
    "categories: [Python, Public Health, Healthcare] \n",
    "description: | Fast Healthcare Interoperability Resources (FHIR) has emerged as a powerful specification for exchanging healthcare information electronically. In the realm of Python development, the fhir.resources module stands out as a comprehensive toolkit, facilitating the manipulation of FHIR resources with ease. In this technical blog, we'll delve into the features and usability of this module, exploring its capabilities, installation, and advanced functionalities. \n",
    "thumbnail: \"/image.png\" \n",
    "template: \"blog-post.html\"\n"
   ]
  },
  {
   "cell_type": "markdown",
   "id": "ab4efd47-50d0-4099-bfaa-ea7b2a04e7e5",
   "metadata": {},
   "source": [
    "# Exploring the Usability of FHIR Resources in Python\n",
    "\n",
    "## Introduction\n",
    "\n",
    "Fast Healthcare Interoperability Resources (FHIR) has emerged as a powerful specification for exchanging healthcare information electronically. In the realm of Python development, the `fhir.resources` module stands out as a comprehensive toolkit, facilitating the manipulation of FHIR resources with ease. In this technical blog, we'll delve into the features and usability of this module, exploring its capabilities, installation, and advanced functionalities.\n",
    "\n",
    "## Overview of FHIR Resources Module\n",
    "\n",
    "The `fhir.resources` module is designed to provide a seamless experience for working with FHIR resources in Python. Here are some key highlights:\n",
    "\n",
    "- **Modularity**: FHIR adopts a modular approach with a set of resources representing different healthcare data types (e.g., patients, observations, diagnoses). This modular design allows for flexibility and extensibility.\n",
    "\n",
    "- **Powered by Pydantic**: Leveraging the power of Pydantic, the module ensures faster performance and includes optional support for orjson, enhancing overall efficiency.\n",
    "\n",
    "- **Compatibility with ORM**: The module seamlessly integrates with Object-Relational Mapping (ORM), making it compatible with various database systems.\n",
    "\n",
    "- **FHIR Version Support**: The module supports FHIR Release 5 (version 5.0.0) by default, with previous versions available as sub-packages. This ensures backward compatibility and smooth transitions between releases.\n",
    "\n",
    "- **Easy Installation**: A simple `pip install fhir.resources` or `easy_install fhir.resources` is sufficient for installation. For the development version, cloning the GitHub repository is recommended.\n",
    "\n",
    "## Basic Usage Examples\n",
    "\n",
    "### Example 1: Creating an Organization Resource"
   ]
  },
  {
   "cell_type": "code",
   "execution_count": null,
   "id": "5cd9f8b1-1625-4906-98b5-1dcba74f1f6c",
   "metadata": {},
   "outputs": [],
   "source": [
    "from fhir.resources.organization import Organization\n",
    "from fhir.resources.address import Address\n",
    "\n",
    "data = {\n",
    "    \"id\": \"f001\",\n",
    "    \"active\": True,\n",
    "    \"name\": \"Acme Corporation\",\n",
    "    \"address\": [{\"country\": \"Switzerland\"}]\n",
    "}\n",
    "\n",
    "org = Organization(**data)\n",
    "\n",
    "assert org.resource_type == \"Organization\"\n",
    "assert isinstance(org.address[0], Address)\n",
    "assert org.address[0].country == \"Switzerland\"\n",
    "assert org.dict()['active'] is True"
   ]
  },
  {
   "cell_type": "markdown",
   "id": "a8c965b3-7602-49f6-a34e-9029bb68249e",
   "metadata": {},
   "source": [
    "### Example 2: Creating a Resource from JSON String"
   ]
  },
  {
   "cell_type": "code",
   "execution_count": null,
   "id": "6c20d5d6-7a3b-45bc-ba38-a866091e646d",
   "metadata": {},
   "outputs": [],
   "source": [
    "from fhir.resources.organization import Organization\n",
    "from fhir.resources.address import Address\n",
    "\n",
    "json_str = '{\"resourceType\": \"Organization\", \"id\": \"f001\", \"active\": true, \"name\": \"Acme Corporation\", \"address\": [{\"country\": \"Switzerland\"}]}'\n",
    "\n",
    "org = Organization.parse_raw(json_str)\n",
    "\n",
    "assert isinstance(org.address[0], Address)\n",
    "assert org.address[0].country == \"Switzerland\"\n",
    "assert org.dict()['active'] is True"
   ]
  },
  {
   "cell_type": "markdown",
   "id": "a80a96f0-2f2c-4919-8c05-9edde209bfcf",
   "metadata": {},
   "source": [
    "### Example 3: Creating a Patient Resource from JSON Object"
   ]
  },
  {
   "cell_type": "code",
   "execution_count": null,
   "id": "e07818c9-0726-4011-bd98-ea5a98bac139",
   "metadata": {},
   "outputs": [],
   "source": [
    "\n",
    "from fhir.resources.patient import Patient\n",
    "from fhir.resources.humanname import HumanName\n",
    "from datetime import date\n",
    "\n",
    "json_obj = {\n",
    "    \"resourceType\": \"Patient\",\n",
    "    \"id\": \"p001\",\n",
    "    \"active\": True,\n",
    "    \"name\": [{\"text\": \"Adam Smith\"}],\n",
    "    \"birthDate\": \"1985-06-12\"\n",
    "}\n",
    "\n",
    "pat = Patient.parse_obj(json_obj)\n",
    "\n",
    "assert isinstance(pat.name[0], HumanName)\n",
    "assert pat.birthDate == date(year=1985, month=6, day=12)\n",
    "assert pat.active is True\n"
   ]
  },
  {
   "cell_type": "markdown",
   "id": "26674c34-e6fd-4129-b022-557c926ac012",
   "metadata": {},
   "source": [
    "## Advanced Features\n",
    "\n",
    "### FHIR Comments (JSON)\n",
    "\n",
    "FHIR comments in JSON are supported, providing a way to include comments within the data.\n",
    "\n",
    "### Custom Validators\n",
    "\n",
    "The module allows the creation and attachment of custom validators, enhancing data validation based on specific requirements.\n",
    "\n",
    "### ENUM Validator\n",
    "\n",
    "Enforcing ENUM constraints is supported through custom validators, ensuring that field values adhere to specified enumerations.\n",
    "\n",
    "### Reference Validator\n",
    "\n",
    "The module provides enum-like lists of permitted resource types through the `enum_reference_types` field property.\n",
    "\n",
    "### Usages of orjson\n",
    "\n",
    "The module seamlessly integrates with orjson, a high-performance JSON library, offering faster serialization and deserialization.\n",
    "\n",
    "### XML Support\n",
    "\n",
    "In addition to JSON, the module supports XML serialization and deserialization, with the ability to validate data against FHIR XML schema.\n",
    "\n",
    "### YAML Support\n",
    "\n",
    "As an experimental feature, YAML support is included for export/import operations.\n",
    "\n",
    "## Conclusion\n",
    "\n",
    "The `fhir.resources` module provides a robust and versatile toolkit for working with FHIR resources in Python. With its modular design, compatibility with modern Python features, and support for various data formats, it simplifies the development of healthcare applications and APIs. Whether you are dealing with basic resource creation or exploring advanced functionalities like custom validators, this module caters to a wide range of use cases in the healthcare domain.\n",
    "\n",
    "## References\n",
    "- [FHIR® Resources (R5, R4B, STU3, DSTU2)](https://github.com/nazrulworld/fhir.resources)"
   ]
  }
 ],
 "metadata": {
  "kernelspec": {
   "display_name": "Python 3 (ipykernel)",
   "language": "python",
   "name": "python3"
  },
  "language_info": {
   "codemirror_mode": {
    "name": "ipython",
    "version": 3
   },
   "file_extension": ".py",
   "mimetype": "text/x-python",
   "name": "python",
   "nbconvert_exporter": "python",
   "pygments_lexer": "ipython3",
   "version": "3.10.12"
  }
 },
 "nbformat": 4,
 "nbformat_minor": 5
}
