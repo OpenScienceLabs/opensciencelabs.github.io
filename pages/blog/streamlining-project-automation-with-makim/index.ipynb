{
 "cells": [
  {
   "cell_type": "raw",
   "id": "14c8a840-5020-486d-a007-f2d4769dfc69",
   "metadata": {},
   "source": [
    "---\n",
    "title: \"Streamlining Project Automation with Makim\"\n",
    "slug: \"streamlining-project-automation-with-makim\"\n",
    "date: 2024-03-18\n",
    "authors: [\"Ivan Ogasawara\"]\n",
    "tags: [\"makim\", \"automation\", \"devops\", \"open-source\"]\n",
    "categories: [\"devops\", \"automation\", \"python\"]\n",
    "description: |\n",
    "  In software development, where efficiency, consistency, and reliability are paramount,\n",
    "  automation tools play a crucial role. Makim, an innovative open-source tool, steps\n",
    "  into the spotlight to improve automation workflows. It simplifies script execution,\n",
    "  environment management, and task dependencies, positioning itself as a great asset in\n",
    "  modern development environments.\n",
    "  environment.\n",
    "thumbnail: \"/header.png\"\n",
    "template: \"blog-post.html\"\n",
    "---"
   ]
  },
  {
   "cell_type": "markdown",
   "id": "232d0e08-2248-40d7-a1f9-c52bff1b357a",
   "metadata": {},
   "source": [
    "# Streamlining Project Automation with Makim\n",
    "\n",
    "In software development, where efficiency, consistency, and reliability are paramount, automation tools play a crucial role. Makim, an innovative open-source tool, steps into the spotlight to improve automation workflows. It simplifies script execution, environment management, and task dependencies, positioning itself as a great asset in modern development environments.\n",
    "\n",
    "## Introducing Makim\n",
    "\n",
    "`Makim` elevates project automation by offering a structured, yet flexible approach to manage routine tasks, complex task dependencies, and environment configurations. Its design is centered around the `.makim.yaml` configuration file, allowing developers to orchestrate their workflows with precision and ease. Unlike traditional script execution tools, Makim's Python-based architecture and support for multiple programming languages and shells enhance its versatility and applicability across diverse projects.\n",
    "\n",
    "Especially suited for DevOps Engineers and Software Developers, Makim eliminates redundancy in automation tasks. Its core functionality extends beyond simple script execution, encompassing:\n",
    "\n",
    "- Argument definition for scripts\n",
    "- Organization of tasks into groups\n",
    "- Advanced dependency management between tasks\n",
    "- Utilization of environment variables and custom variables\n",
    "- Dynamic content generation with Jinja2 templates\n",
    "- Specification of working directories for tasks\n",
    "- Execution flexibility through support for multiple interpreters or shells\n",
    "\n",
    "Despite its broad capabilities, Makim currently lacks support for Windows but plans to extend its compatibility in future versions.\n",
    "\n",
    "## Getting Started with Makim\n",
    "\n",
    "### Installation\n",
    "\n",
    "Makim can be installed via `pip` or `conda`, catering to different setup preferences:\n",
    "\n",
    "- To install `Makim` using `pip`, run:"
   ]
  },
  {
   "cell_type": "code",
   "execution_count": 1,
   "id": "761586e2-98ef-4fc1-a73b-7d9d4e1c8e7e",
   "metadata": {},
   "outputs": [],
   "source": [
    "!pip install -q \"makim==1.14.0\""
   ]
  },
  {
   "cell_type": "markdown",
   "id": "b0af5f25-4807-4637-9036-62fa6f894bef",
   "metadata": {},
   "source": [
    "- For those who prefer `conda`, execute:\n",
    "\n",
    "  ```\n",
    "  conda install \"makim=1.14.0\"\n",
    "  ```\n",
    "\n",
    "Given Makim's active development, pinning to a specific version is recommended to ensure consistency.\n",
    "\n",
    "For this tutorial, we will disable the output color feature provided by typer, the command-line interface engine used by **Makim**."
   ]
  },
  {
   "cell_type": "code",
   "execution_count": 2,
   "id": "e6f6a633-79e3-4690-928b-4e74b725c83c",
   "metadata": {},
   "outputs": [],
   "source": [
    "import os\n",
    "os.environ[\"NO_COLOR\"] = \"1\""
   ]
  },
  {
   "cell_type": "markdown",
   "id": "4ff221f5-e18b-4b0b-bbb5-4cd8547bf35a",
   "metadata": {},
   "source": [
    "### Configuring `.makim.yaml`\n",
    "\n",
    "The `.makim.yaml` file is the foundation of your Makim configuration. Here's how to start:\n",
    "\n",
    "1. **Create the `.makim.yaml` File**: Place this file at the root of your project directory.\n",
    "   \n",
    "2. **Define Your Automation Tasks**: Configure your tasks, specifying actions, arguments, and dependencies. For example:"
   ]
  },
  {
   "cell_type": "code",
   "execution_count": 3,
   "id": "dd79bbd0-73db-4d25-ae06-a143aef3b8e1",
   "metadata": {},
   "outputs": [
    {
     "name": "stdout",
     "output_type": "stream",
     "text": [
      "Overwriting .makim.yaml\n"
     ]
    }
   ],
   "source": [
    "%%writefile .makim.yaml\n",
    "version: 1.0.0\n",
    "groups:\n",
    "  clean:\n",
    "    env-file: .env\n",
    "    targets:\n",
    "      tmp:\n",
    "        help: Use this target to clean up temporary files\n",
    "        run: |\n",
    "          echo \"Cleaning up...\"\n",
    "  tests:\n",
    "    targets:\n",
    "     unit:\n",
    "       help: Build the program\n",
    "       args:\n",
    "         clean:\n",
    "           type: bool\n",
    "           action: store_true\n",
    "           help: if not set, the clean dependency will not be triggered.\n",
    "       dependencies:\n",
    "         - target: clean.tmp\n",
    "           if: ${{ args.clean == true }}\n",
    "       run: |\n",
    "         echo \"Runnint unit tests...\""
   ]
  },
  {
   "cell_type": "markdown",
   "id": "7bb49d00-0f25-4679-97ce-2bd2ecfa6e3c",
   "metadata": {},
   "source": [
    "This setup demonstrates Makim's ability to manage tasks with conditional logic and dependencies.\n",
    "\n",
    "### Exploring Makim's CLI\n",
    "\n",
    "Makim's CLI provides insights into available commands, arguments, and configurations through the auto-generated help menu:"
   ]
  },
  {
   "cell_type": "code",
   "execution_count": 4,
   "id": "5e17c7ab-a183-40d9-bc1a-96ff8be6a91b",
   "metadata": {},
   "outputs": [
    {
     "name": "stdout",
     "output_type": "stream",
     "text": [
      "\u001b[1m                                                                                \u001b[0m\n",
      "\u001b[1m \u001b[0m\u001b[1mUsage: \u001b[0m\u001b[1mmakim [OPTIONS] COMMAND [ARGS]...\u001b[0m\u001b[1m                                      \u001b[0m\u001b[1m \u001b[0m\n",
      "\u001b[1m                                                                                \u001b[0m\n",
      " Makim is a tool that helps you to organize and simplify your helper commands.  \n",
      "                                                                                \n",
      "\u001b[2m╭─\u001b[0m\u001b[2m Options \u001b[0m\u001b[2m───────────────────────────────────────────────────────────────────\u001b[0m\u001b[2m─╮\u001b[0m\n",
      "\u001b[2m│\u001b[0m \u001b[1m-\u001b[0m\u001b[1m-version\u001b[0m             \u001b[1m-v\u001b[0m      \u001b[1m    \u001b[0m  Show the version and exit                \u001b[2m│\u001b[0m\n",
      "\u001b[2m│\u001b[0m \u001b[1m-\u001b[0m\u001b[1m-file\u001b[0m                        \u001b[1mTEXT\u001b[0m  Makim config file \u001b[2m[default: .makim.yaml]\u001b[0m \u001b[2m│\u001b[0m\n",
      "\u001b[2m│\u001b[0m \u001b[1m-\u001b[0m\u001b[1m-dry\u001b[0m\u001b[1m-run\u001b[0m                     \u001b[1m    \u001b[0m  Execute the command in dry mode          \u001b[2m│\u001b[0m\n",
      "\u001b[2m│\u001b[0m \u001b[1m-\u001b[0m\u001b[1m-verbose\u001b[0m                     \u001b[1m    \u001b[0m  Execute the command in verbose mode      \u001b[2m│\u001b[0m\n",
      "\u001b[2m│\u001b[0m \u001b[1m-\u001b[0m\u001b[1m-install\u001b[0m\u001b[1m-completion\u001b[0m          \u001b[1m    \u001b[0m  Install completion for the current       \u001b[2m│\u001b[0m\n",
      "\u001b[2m│\u001b[0m                                     shell.                                   \u001b[2m│\u001b[0m\n",
      "\u001b[2m│\u001b[0m \u001b[1m-\u001b[0m\u001b[1m-show\u001b[0m\u001b[1m-completion\u001b[0m             \u001b[1m    \u001b[0m  Show completion for the current shell,   \u001b[2m│\u001b[0m\n",
      "\u001b[2m│\u001b[0m                                     to copy it or customize the              \u001b[2m│\u001b[0m\n",
      "\u001b[2m│\u001b[0m                                     installation.                            \u001b[2m│\u001b[0m\n",
      "\u001b[2m│\u001b[0m \u001b[1m-\u001b[0m\u001b[1m-help\u001b[0m                        \u001b[1m    \u001b[0m  Show this message and exit.              \u001b[2m│\u001b[0m\n",
      "\u001b[2m╰──────────────────────────────────────────────────────────────────────────────╯\u001b[0m\n",
      "\u001b[2m╭─\u001b[0m\u001b[2m Commands \u001b[0m\u001b[2m──────────────────────────────────────────────────────────────────\u001b[0m\u001b[2m─╮\u001b[0m\n",
      "\u001b[2m│\u001b[0m \u001b[1mclean.tmp      \u001b[0m\u001b[1m \u001b[0m Use this target to clean up temporary files                 \u001b[2m│\u001b[0m\n",
      "\u001b[2m│\u001b[0m \u001b[1mtests.unit     \u001b[0m\u001b[1m \u001b[0m Build the program                                           \u001b[2m│\u001b[0m\n",
      "\u001b[2m╰──────────────────────────────────────────────────────────────────────────────╯\u001b[0m\n",
      "                                                                                \n",
      " If you have any problem, open an issue at:                                     \n",
      " https://github.com/osl-incubator/makim                                         \n",
      "                                                                                \n",
      "\n"
     ]
    }
   ],
   "source": [
    "!makim --help"
   ]
  },
  {
   "cell_type": "markdown",
   "id": "be6b96d3-79f8-48e2-8e9e-edeb38a4dc58",
   "metadata": {},
   "source": [
    "This feature facilitates easy access to Makim's functionalities, enhancing usability and understanding of the tool.\n",
    "\n",
    "### Executing Your First Commands\n",
    "\n",
    "With your `.makim.yaml` file set up, you can begin to use `makim`:"
   ]
  },
  {
   "cell_type": "code",
   "execution_count": 5,
   "id": "535b89a1-cb6c-48ce-b4d3-2a9296c97f2b",
   "metadata": {},
   "outputs": [
    {
     "name": "stdout",
     "output_type": "stream",
     "text": [
      "Makim file: .makim.yaml\n",
      "Cleaning up...\n"
     ]
    }
   ],
   "source": [
    "!makim clean.tmp"
   ]
  },
  {
   "cell_type": "code",
   "execution_count": 6,
   "id": "6c997aeb-eed5-4801-8bfb-dad26bb72dcb",
   "metadata": {},
   "outputs": [
    {
     "name": "stdout",
     "output_type": "stream",
     "text": [
      "Makim file: .makim.yaml\n",
      "Runnint unit tests...\n"
     ]
    }
   ],
   "source": [
    "!makim tests.unit"
   ]
  },
  {
   "cell_type": "markdown",
   "id": "48ed3970-3854-49cb-8109-53a38a72d8d4",
   "metadata": {},
   "source": [
    "In the case you type your command wrong, **Makim** will suggest you some alternative:"
   ]
  },
  {
   "cell_type": "code",
   "execution_count": 7,
   "id": "800ad2a4-0c45-4b1a-b4ef-927ab1230e60",
   "metadata": {},
   "outputs": [
    {
     "name": "stdout",
     "output_type": "stream",
     "text": [
      "Usage: makim [OPTIONS] COMMAND [ARGS]...\n",
      "\u001b[2mTry \u001b[0m\u001b[2m'makim \u001b[0m\u001b[1;2m-\u001b[0m\u001b[1;2m-help\u001b[0m\u001b[2m'\u001b[0m\u001b[2m for help.\u001b[0m\n",
      "╭─ Error ──────────────────────────────────────────────────────────────────────╮\n",
      "│ No such command 'tests.unittest'.                                            │\n",
      "╰──────────────────────────────────────────────────────────────────────────────╯\n",
      "\u001b[31mCommand tests.unittest not found. Did you mean tests.unit'?\u001b[0m\n"
     ]
    }
   ],
   "source": [
    "!makim tests.unittest"
   ]
  },
  {
   "cell_type": "markdown",
   "id": "aae58d63-d028-47b1-a57e-fb21fc3f9216",
   "metadata": {},
   "source": [
    "**Makim** CLI is empowered by **Typer**, and it allows us to have auto-completion for Makim groups and targets! If you want to install, you can run the following command:"
   ]
  },
  {
   "cell_type": "code",
   "execution_count": 8,
   "id": "5839d8fb-0a4c-43bf-8b11-1a1ab36cc178",
   "metadata": {},
   "outputs": [
    {
     "name": "stdout",
     "output_type": "stream",
     "text": [
      "\u001b[32mbash completion installed in /home/xmn/.bash_completions/makim.sh\u001b[0m\n",
      "Completion will take effect once you restart the terminal\n"
     ]
    }
   ],
   "source": [
    "!makim --install-completion "
   ]
  },
  {
   "cell_type": "markdown",
   "id": "962a1698-31b4-4223-b08d-e065d5463bd9",
   "metadata": {},
   "source": [
    "After this command you will need to restart the terminal in order to use this auto-completion feature."
   ]
  },
  {
   "cell_type": "markdown",
   "id": "2cc6ebb1-304b-4aab-b5f8-ca72289e1815",
   "metadata": {},
   "source": [
    "## Advanced Features and Examples\n",
    "\n",
    "Makim's adaptability is showcased through various features and practical examples:\n",
    "\n",
    "- **Conditional Dependencies and Arguments**: Define complex task dependencies with conditional execution based on passed arguments.\n",
    "- **Dynamic Configuration with Jinja2**: Leverage Jinja2 templates for advanced scripting and dynamic content generation.\n",
    "- **Environment and Custom Variable Management**: Organize and utilize variables effectively across different scopes of your project.\n",
    "- **Specifying Working Directories**: Control the execution context of your tasks by setting working directories.\n",
    "\n",
    "These examples underscore Makim's capability to accommodate intricate automation scenarios, streamlining development workflows.\n",
    "\n",
    "## Exploring Makim Through Examples\n",
    "\n",
    "### Utilizing Various Interpreters\n",
    "\n",
    "Makim extends its functionality beyond conventional script execution by supporting various interpreters and shell languages, facilitating a versatile development environment. While **xonsh** is the default interpreter - blending the capabilities of Bash and Python for an enriched command-line experience - Makim's architecture allows for seamless integration with other environments. For developers seeking to leverage this feature, a foundational understanding of **xonsh** can be beneficial. Comprehensive details and usage guidelines are available in the [official xonsh documentation](https://xon.sh/).\n",
    "\n",
    "This section demonstrates executing straightforward commands across multiple interpreters, showcasing Makim's adaptability to diverse programming contexts."
   ]
  },
  {
   "cell_type": "code",
   "execution_count": 9,
   "id": "0d942c28-d13a-4131-b5e4-113667a69c3e",
   "metadata": {},
   "outputs": [
    {
     "name": "stdout",
     "output_type": "stream",
     "text": [
      "Overwriting .env\n"
     ]
    }
   ],
   "source": [
    "%%writefile .env\n",
    "MSG_PREFIX=\"Running Makim: Hello, World,\""
   ]
  },
  {
   "cell_type": "code",
   "execution_count": 10,
   "id": "f68e8008-f0f1-4ead-a42e-4e524fc03c22",
   "metadata": {},
   "outputs": [
    {
     "name": "stdout",
     "output_type": "stream",
     "text": [
      "Overwriting .makim.yaml\n"
     ]
    }
   ],
   "source": [
    "%%writefile .makim.yaml\n",
    "version: 1.0\n",
    "env-file: .env\n",
    "groups:\n",
    "  tests:\n",
    "    targets:\n",
    "      node:\n",
    "        help: Test using nodejs\n",
    "        shell: node\n",
    "        run: console.log(\"${{ env.MSG_PREFIX }} from NodeJS!\");\n",
    "      perl:\n",
    "        help: Test using perl\n",
    "        shell: perl\n",
    "        run: print \"${{ env.MSG_PREFIX }} from Perl!\\n\";\n",
    "\n",
    "      python:\n",
    "        help: Test using php\n",
    "        shell: python\n",
    "        run: print(\"${{ env.MSG_PREFIX }} from Python!\")\n",
    "\n",
    "      r:\n",
    "        help: Test using R\n",
    "        shell: Rscript\n",
    "        run: print(\"${{ env.MSG_PREFIX }} from R!\")\n",
    "\n",
    "      sh:\n",
    "        help: Test using sh\n",
    "        shell: sh\n",
    "        run: echo \"${{ env.MSG_PREFIX }} from sh!\"\n",
    "\n",
    "      run-all:\n",
    "        help: Run tests for all the other targets\n",
    "        dependencies:\n",
    "          - target: node\n",
    "          - target: perl\n",
    "          - target: python\n",
    "          - target: r\n",
    "          - target: sh"
   ]
  },
  {
   "cell_type": "code",
   "execution_count": 11,
   "id": "ce809dd8-7db4-4c56-8622-ec3411bad4cf",
   "metadata": {},
   "outputs": [
    {
     "name": "stdout",
     "output_type": "stream",
     "text": [
      "\u001b[1m                                                                                \u001b[0m\n",
      "\u001b[1m \u001b[0m\u001b[1mUsage: \u001b[0m\u001b[1mmakim [OPTIONS] COMMAND [ARGS]...\u001b[0m\u001b[1m                                      \u001b[0m\u001b[1m \u001b[0m\n",
      "\u001b[1m                                                                                \u001b[0m\n",
      " Makim is a tool that helps you to organize and simplify your helper commands.  \n",
      "                                                                                \n",
      "\u001b[2m╭─\u001b[0m\u001b[2m Options \u001b[0m\u001b[2m───────────────────────────────────────────────────────────────────\u001b[0m\u001b[2m─╮\u001b[0m\n",
      "\u001b[2m│\u001b[0m \u001b[1m-\u001b[0m\u001b[1m-version\u001b[0m             \u001b[1m-v\u001b[0m      \u001b[1m    \u001b[0m  Show the version and exit                \u001b[2m│\u001b[0m\n",
      "\u001b[2m│\u001b[0m \u001b[1m-\u001b[0m\u001b[1m-file\u001b[0m                        \u001b[1mTEXT\u001b[0m  Makim config file \u001b[2m[default: .makim.yaml]\u001b[0m \u001b[2m│\u001b[0m\n",
      "\u001b[2m│\u001b[0m \u001b[1m-\u001b[0m\u001b[1m-dry\u001b[0m\u001b[1m-run\u001b[0m                     \u001b[1m    \u001b[0m  Execute the command in dry mode          \u001b[2m│\u001b[0m\n",
      "\u001b[2m│\u001b[0m \u001b[1m-\u001b[0m\u001b[1m-verbose\u001b[0m                     \u001b[1m    \u001b[0m  Execute the command in verbose mode      \u001b[2m│\u001b[0m\n",
      "\u001b[2m│\u001b[0m \u001b[1m-\u001b[0m\u001b[1m-install\u001b[0m\u001b[1m-completion\u001b[0m          \u001b[1m    \u001b[0m  Install completion for the current       \u001b[2m│\u001b[0m\n",
      "\u001b[2m│\u001b[0m                                     shell.                                   \u001b[2m│\u001b[0m\n",
      "\u001b[2m│\u001b[0m \u001b[1m-\u001b[0m\u001b[1m-show\u001b[0m\u001b[1m-completion\u001b[0m             \u001b[1m    \u001b[0m  Show completion for the current shell,   \u001b[2m│\u001b[0m\n",
      "\u001b[2m│\u001b[0m                                     to copy it or customize the              \u001b[2m│\u001b[0m\n",
      "\u001b[2m│\u001b[0m                                     installation.                            \u001b[2m│\u001b[0m\n",
      "\u001b[2m│\u001b[0m \u001b[1m-\u001b[0m\u001b[1m-help\u001b[0m                        \u001b[1m    \u001b[0m  Show this message and exit.              \u001b[2m│\u001b[0m\n",
      "\u001b[2m╰──────────────────────────────────────────────────────────────────────────────╯\u001b[0m\n",
      "\u001b[2m╭─\u001b[0m\u001b[2m Commands \u001b[0m\u001b[2m──────────────────────────────────────────────────────────────────\u001b[0m\u001b[2m─╮\u001b[0m\n",
      "\u001b[2m│\u001b[0m \u001b[1mtests.node           \u001b[0m\u001b[1m \u001b[0m Test using nodejs                                     \u001b[2m│\u001b[0m\n",
      "\u001b[2m│\u001b[0m \u001b[1mtests.perl           \u001b[0m\u001b[1m \u001b[0m Test using perl                                       \u001b[2m│\u001b[0m\n",
      "\u001b[2m│\u001b[0m \u001b[1mtests.python         \u001b[0m\u001b[1m \u001b[0m Test using php                                        \u001b[2m│\u001b[0m\n",
      "\u001b[2m│\u001b[0m \u001b[1mtests.r              \u001b[0m\u001b[1m \u001b[0m Test using R                                          \u001b[2m│\u001b[0m\n",
      "\u001b[2m│\u001b[0m \u001b[1mtests.run-all        \u001b[0m\u001b[1m \u001b[0m Run tests for all the other targets                   \u001b[2m│\u001b[0m\n",
      "\u001b[2m│\u001b[0m \u001b[1mtests.sh             \u001b[0m\u001b[1m \u001b[0m Test using sh                                         \u001b[2m│\u001b[0m\n",
      "\u001b[2m╰──────────────────────────────────────────────────────────────────────────────╯\u001b[0m\n",
      "                                                                                \n",
      " If you have any problem, open an issue at:                                     \n",
      " https://github.com/osl-incubator/makim                                         \n",
      "                                                                                \n",
      "\n"
     ]
    }
   ],
   "source": [
    "!makim --help"
   ]
  },
  {
   "cell_type": "markdown",
   "id": "14ed7f09-9bea-490d-ad3d-629ea4ee971f",
   "metadata": {},
   "source": [
    "Prior to executing these targets, it is necessary to install the required dependencies:"
   ]
  },
  {
   "cell_type": "code",
   "execution_count": 12,
   "id": "defb03d3-404d-489b-9990-ed66552aa341",
   "metadata": {},
   "outputs": [],
   "source": [
    "!mamba install -q -y perl nodejs r-base sh "
   ]
  },
  {
   "cell_type": "markdown",
   "id": "402bf345-9a18-403f-be99-e428e7c78b97",
   "metadata": {},
   "source": [
    "Proceed to execute all defined targets by invoking the run-all target, which encapsulates all other targets as its dependencies for a sequential execution process:"
   ]
  },
  {
   "cell_type": "code",
   "execution_count": 13,
   "id": "8f4e23ef-0238-4393-9747-8f945de40f79",
   "metadata": {},
   "outputs": [
    {
     "name": "stdout",
     "output_type": "stream",
     "text": [
      "Makim file: .makim.yaml\n",
      "Running Makim: Hello, World, from NodeJS!\n",
      "(node:1634785) Warning: The 'NO_COLOR' env is ignored due to the 'FORCE_COLOR' env being set.\n",
      "(Use `node --trace-warnings ...` to show where the warning was created)\n",
      "Running Makim: Hello, World, from Perl!\n",
      "Running Makim: Hello, World, from Python!\n",
      "[1] \"Running Makim: Hello, World, from R!\"\n",
      "Running Makim: Hello, World, from sh!\n"
     ]
    }
   ],
   "source": [
    "!makim tests.run-all"
   ]
  },
  {
   "cell_type": "markdown",
   "id": "d57e524f-9ddd-4e1e-9d90-e47154c0950d",
   "metadata": {},
   "source": [
    "In scenarios where your chosen interpreter supports debugging - such as Python or Xonsh through the use of `breakpoint()` - you can introduce a breakpoint within your code. This enables the debugging of your **Makim** target, allowing for an interactive examination of the execution flow and variable states."
   ]
  },
  {
   "cell_type": "markdown",
   "id": "43d8808a-6b75-4e54-a193-4ba148de913a",
   "metadata": {},
   "source": [
    "### Using Variables (vars)\n",
    "\n",
    "**Makim** facilitates the definition of variables within the `.makim.yaml` configuration, supporting all the **YAML** data types, including strings, lists, and dictionaries. This feature enhances script configurability and reusability across different tasks and environments.\n",
    "\n",
    "Consider reviewing the provided example to understand how to effectively leverage variables in your **Makim** configurations:"
   ]
  },
  {
   "cell_type": "code",
   "execution_count": 14,
   "id": "ff7b4903-8caf-454b-828f-4ab6cf57d8fa",
   "metadata": {},
   "outputs": [
    {
     "name": "stdout",
     "output_type": "stream",
     "text": [
      "Overwriting .makim.yaml\n"
     ]
    }
   ],
   "source": [
    "%%writefile .makim.yaml\n",
    "version: 1.0\n",
    "\n",
    "vars:\n",
    "  project-name: \"my-project\"\n",
    "  dependencies:\n",
    "    \"dep1\": \"v1\"\n",
    "    \"dep2\": \"v1.1\"\n",
    "    \"dep3\": \"v2.3\"\n",
    "  authorized-users:\n",
    "    - admin1\n",
    "    - admin2\n",
    "    - admin3\n",
    "\n",
    "groups:\n",
    "  staging:\n",
    "    vars:\n",
    "      env-name: \"staging\"\n",
    "      staging-dependencies:\n",
    "        \"dep4\": \"v4.3\"\n",
    "        \"dep5\": \"v1.1.1\"\n",
    "      staging-authorized-users:\n",
    "        - staging1\n",
    "        - staging2\n",
    "        - staging3\n",
    "    targets:\n",
    "      create-users:\n",
    "        help: Create users for staging, this example uses jinja2 for loop.\n",
    "        # each target can also specify their `vars`, but it will not be used in this example\n",
    "        run: |\n",
    "          def create_user(username):\n",
    "              print(f\">>> creating user: {username} ... DONE!\")\n",
    "                                                                \n",
    "          print(\"create admin users:\")\n",
    "          {% for user in vars.authorized_users %}\n",
    "          create_user(\"${{ user }}\")\n",
    "          {% endfor %}\n",
    "\n",
    "          print(\"\\ncreate staging users:\")\n",
    "          {% for user in vars.staging_authorized_users %}\n",
    "          create_user(\"${{ user }}\")\n",
    "          {% endfor %}\n",
    "\n",
    "      install:\n",
    "        help: install deps for staging using native xonsh `for` loop (it could work with Python as well)\n",
    "        # each target can also specify their `vars`, but it will not be used in this example\n",
    "        run: |\n",
    "          def install(package, version):\n",
    "              print(f\">>> installing: {package}@{version} ... DONE!\")\n",
    "                                            \n",
    "          print(\"install global dependencies:\")\n",
    "          for package, version in ${{ vars.dependencies | safe }}.items():\n",
    "              install(package, version)\n",
    "\n",
    "          print(\"\\ninstall staging dependencies:\")\n",
    "          for package, version in ${{ vars.staging_dependencies | safe }}.items():\n",
    "              install(package, version)"
   ]
  },
  {
   "cell_type": "markdown",
   "id": "2b67905e-2e5b-4d54-bee8-eadcfe12cd66",
   "metadata": {},
   "source": [
    "Now, let's proceed to create users within the staging environment:"
   ]
  },
  {
   "cell_type": "code",
   "execution_count": 15,
   "id": "89f4ea8e-b58e-4da3-9097-61deaf5e6c70",
   "metadata": {},
   "outputs": [
    {
     "name": "stdout",
     "output_type": "stream",
     "text": [
      "Makim file: .makim.yaml\n",
      "create admin users:\n",
      ">>> creating user: admin1 ... DONE!\n",
      ">>> creating user: admin2 ... DONE!\n",
      ">>> creating user: admin3 ... DONE!\n",
      "\n",
      "create staging users:\n",
      ">>> creating user: staging1 ... DONE!\n",
      ">>> creating user: staging2 ... DONE!\n",
      ">>> creating user: staging3 ... DONE!\n"
     ]
    }
   ],
   "source": [
    "!makim staging.create-users"
   ]
  },
  {
   "cell_type": "markdown",
   "id": "cd07e3af-4527-4530-952e-01848701e185",
   "metadata": {},
   "source": [
    "Last but not least, let's run the install target:"
   ]
  },
  {
   "cell_type": "code",
   "execution_count": 16,
   "id": "2eb7291c-610a-427c-a970-bb923b17678e",
   "metadata": {},
   "outputs": [
    {
     "name": "stdout",
     "output_type": "stream",
     "text": [
      "Makim file: .makim.yaml\n",
      "install global dependencies:\n",
      ">>> installing: dep1@v1 ... DONE!\n",
      ">>> installing: dep2@v1.1 ... DONE!\n",
      ">>> installing: dep3@v2.3 ... DONE!\n",
      "\n",
      "install staging dependencies:\n",
      ">>> installing: dep4@v4.3 ... DONE!\n",
      ">>> installing: dep5@v1.1.1 ... DONE!\n"
     ]
    }
   ],
   "source": [
    "!makim staging.install"
   ]
  },
  {
   "cell_type": "markdown",
   "id": "fcfc9258-a97d-4378-9cbb-e1be2678c801",
   "metadata": {},
   "source": [
    "### Defining Arguments\n",
    "\n",
    "**Makim** enhances script flexibility by allowing the use of arguments. It enables not only the definition of arguments for tasks but also the passing of arguments to dependencies and the specification of conditions for those dependencies.\n",
    "\n",
    "Explore this functionality through this example:"
   ]
  },
  {
   "cell_type": "code",
   "execution_count": 17,
   "id": "cb5c198b-4644-4e92-b1a4-cc66c55fc29d",
   "metadata": {},
   "outputs": [
    {
     "name": "stdout",
     "output_type": "stream",
     "text": [
      "Overwriting .makim.yaml\n"
     ]
    }
   ],
   "source": [
    "%%writefile .makim.yaml\n",
    "version: 1.0.0\n",
    "groups:\n",
    "  print:\n",
    "    env-file: .env\n",
    "    targets:\n",
    "      name:\n",
    "        help: Print given name\n",
    "        args:\n",
    "          name:\n",
    "            type: str\n",
    "            required: true\n",
    "        run: print(\"${{ args.name }}\")\n",
    "      list:\n",
    "        help: Build the program\n",
    "        args:\n",
    "          i-am-sure:\n",
    "            type: bool\n",
    "        dependencies:\n",
    "          - target: print.name\n",
    "            if: ${{ args.i_am_sure == true }}\n",
    "            args:\n",
    "              name: Mary\n",
    "          - target: print.name\n",
    "            if: ${{ args.i_am_sure == true }}\n",
    "            args:\n",
    "              name: John\n",
    "          - target: print.name\n",
    "            if: ${{ args.i_am_sure == true }}\n",
    "            args:\n",
    "              name: Ellen\n",
    "          - target: print.name\n",
    "            if: ${{ args.i_am_sure == true }}\n",
    "            args:\n",
    "              name: Marc"
   ]
  },
  {
   "cell_type": "code",
   "execution_count": 18,
   "id": "551d69e9-d074-4b70-b868-f7e9fa6faba6",
   "metadata": {},
   "outputs": [
    {
     "name": "stdout",
     "output_type": "stream",
     "text": [
      "Makim file: .makim.yaml\n"
     ]
    }
   ],
   "source": [
    "!makim print.list"
   ]
  },
  {
   "cell_type": "code",
   "execution_count": 19,
   "id": "dfe7b8ba-f438-4f62-88fc-e99e11a15bee",
   "metadata": {},
   "outputs": [
    {
     "name": "stdout",
     "output_type": "stream",
     "text": [
      "Makim file: .makim.yaml\n",
      "Mary\n",
      "John\n",
      "Ellen\n",
      "Marc\n"
     ]
    }
   ],
   "source": [
    "!makim print.list --i-am-sure"
   ]
  },
  {
   "cell_type": "markdown",
   "id": "5f7c72db-31d6-47f5-a8aa-932f3e5bf2a7",
   "metadata": {},
   "source": [
    "### Utilizing Environment Variables\n",
    "\n",
    "The previous sections demonstrated the use of environment variables. Here, we'll delve into their application in more detail.\n",
    "\n",
    "**Makim** permits the incorporation of environment variables from `.env` files or directly within the `.makim.yaml` file, applicable at global, group, and target levels.\n",
    "\n",
    "Examine an example to understand the implementation:"
   ]
  },
  {
   "cell_type": "code",
   "execution_count": 20,
   "id": "6e0c4c5a-ef21-43e0-ac18-40672850b93a",
   "metadata": {},
   "outputs": [
    {
     "name": "stdout",
     "output_type": "stream",
     "text": [
      "Overwriting .env\n"
     ]
    }
   ],
   "source": [
    "%%writefile .env\n",
    "ENV=dev"
   ]
  },
  {
   "cell_type": "code",
   "execution_count": 21,
   "id": "678192e5-7af3-4862-bc76-4beecf030bd2",
   "metadata": {},
   "outputs": [
    {
     "name": "stdout",
     "output_type": "stream",
     "text": [
      "Overwriting .makim.yaml\n"
     ]
    }
   ],
   "source": [
    "%%writefile .makim.yaml\n",
    "version: 1.0\n",
    "env-file: .env\n",
    "env:\n",
    "  GLOBAL_VAR: \"1\"\n",
    "groups:\n",
    "  global-scope:\n",
    "    env:\n",
    "      GROUP_VAR: \"2\"\n",
    "    targets:\n",
    "      test-var-env-file:\n",
    "        help: Test env variable defined in the global scope from env-file\n",
    "        run: |\n",
    "          import os\n",
    "          assert str(os.getenv(\"ENV\")) == \"dev\"\n",
    "\n",
    "      test-var-env:\n",
    "        help: Test env variable defined in the global scope in `env` section\n",
    "        env:\n",
    "          TARGET_VAR: \"3\"\n",
    "        run: |\n",
    "          import os\n",
    "          # you can get an environment variable directly with xonsh/python\n",
    "          assert str(os.getenv(\"GLOBAL_VAR\")) == \"1\"\n",
    "          # or you can get an environment variable using jinja2 tag\n",
    "          assert \"${{ env.GROUP_VAR }}\" == \"2\"\n",
    "          assert \"${{ env.get(\"TARGET_VAR\") }}\" == \"3\"\n",
    "          assert \"${{ env.get(\"UNKNOWN_TARGET_VAR\", \"4\") }}\" == \"4\""
   ]
  },
  {
   "cell_type": "code",
   "execution_count": 22,
   "id": "6221cfec-19b5-450e-853e-737ce0ed024f",
   "metadata": {},
   "outputs": [
    {
     "name": "stdout",
     "output_type": "stream",
     "text": [
      "Makim file: .makim.yaml\n"
     ]
    }
   ],
   "source": [
    "!makim global-scope.test-var-env-file"
   ]
  },
  {
   "cell_type": "code",
   "execution_count": 23,
   "id": "548a68cf-b597-4eb9-8438-eb97729dcb46",
   "metadata": {},
   "outputs": [
    {
     "name": "stdout",
     "output_type": "stream",
     "text": [
      "Makim file: .makim.yaml\n"
     ]
    }
   ],
   "source": [
    "!makim global-scope.test-var-env"
   ]
  },
  {
   "cell_type": "markdown",
   "id": "ce5e09d7-bf8b-4b0e-9127-48958ee79601",
   "metadata": {},
   "source": [
    "### Specifying the Working Directory\n",
    "\n",
    "Makim provides the capability to set a specific working directory for tasks at any scope: global, group, or target.\n",
    "\n",
    "Review a straightforward example to learn how to apply this feature:"
   ]
  },
  {
   "cell_type": "code",
   "execution_count": 24,
   "id": "65335daf-ac06-497c-a0f8-6dbb9f5a570b",
   "metadata": {},
   "outputs": [
    {
     "name": "stdout",
     "output_type": "stream",
     "text": [
      "Overwriting .makim.yaml\n"
     ]
    }
   ],
   "source": [
    "%%writefile .makim.yaml\n",
    "version: 1.0\n",
    "working-directory: \"/tmp\"\n",
    "\n",
    "groups:\n",
    "  check-wd:\n",
    "    targets:\n",
    "      is-tmp:\n",
    "        help: Test if working directory is `tmp`\n",
    "        run: |\n",
    "          import os\n",
    "          print(os.getcwd())\n",
    "          assert os.getcwd() == \"/tmp\""
   ]
  },
  {
   "cell_type": "code",
   "execution_count": 25,
   "id": "0938bcee-26fb-4028-82f6-bbed8453eba7",
   "metadata": {},
   "outputs": [
    {
     "name": "stdout",
     "output_type": "stream",
     "text": [
      "Makim file: .makim.yaml\n",
      "/tmp\n"
     ]
    }
   ],
   "source": [
    "!makim check-wd.is-tmp"
   ]
  },
  {
   "cell_type": "markdown",
   "id": "ae987426-9ead-4375-bddf-b5ded48aeb1a",
   "metadata": {},
   "source": [
    "This tutorial concludes with a showcase of Makim's key features. While this overview covers the essentials, diving deeper into **Makim** will reveal more advanced and intriguing ways to leverage its capabilities."
   ]
  },
  {
   "cell_type": "markdown",
   "id": "a5f5fb97-503f-4a3b-92a7-8ecef4d9687c",
   "metadata": {},
   "source": [
    "## Contributing to Makim\n",
    "\n",
    "Makim's growth is propelled by its community. Contributions, whether through code, documentation, or feedback, are welcome. Explore the [GitHub repository](https://github.com/osl-incubator/makim) and consider contributing to foster Makim's development."
   ]
  },
  {
   "cell_type": "markdown",
   "id": "822a5ed4-6941-4761-9a7b-9910dd075849",
   "metadata": {},
   "source": [
    "## Conclusion\n",
    "\n",
    "Makim stands out as a transformative tool in project automation, bridging the gap between simplicity and complexity. Its comprehensive feature set, coupled with the flexibility of its configuration, makes Makim a quintessential tool for developers and DevOps engineers alike. As you incorporate Makim into your projects, its impact on enhancing productivity and consistency will become evident, marking it as an indispensable part of your development toolkit.\n",
    "\n",
    "Dive deeper into Makim's functionalities by visiting the [official documentation](https://github.com/osl-incubator/makim). Try it and let us know your thoughts about it!"
   ]
  }
 ],
 "metadata": {
  "kernelspec": {
   "display_name": "Python 3 (ipykernel)",
   "language": "python",
   "name": "python3"
  },
  "language_info": {
   "codemirror_mode": {
    "name": "ipython",
    "version": 3
   },
   "file_extension": ".py",
   "mimetype": "text/x-python",
   "name": "python",
   "nbconvert_exporter": "python",
   "pygments_lexer": "ipython3",
   "version": "3.11.7"
  }
 },
 "nbformat": 4,
 "nbformat_minor": 5
}
