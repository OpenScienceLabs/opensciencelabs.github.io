{
 "cells": [
  {
   "cell_type": "raw",
   "id": "d4447f2e",
   "metadata": {},
   "source": [
    "---\n",
    "title: \"Efficent Workflows with Makim's Working Directory\"\n",
    "slug: \"makim-efficient-workflows-with-makims-working-directory\"\n",
    "date: 2023-12-10\n",
    "authors: [\"Abhijeet Saroha\"]\n",
    "tags: [\"makim\", \"automation\", \"working-directory\", \"devops\", \"open-source\"]\n",
    "categories: [\"devops\", \"automation\", \"python\"]\n",
    "description: |\n",
    "  In this blog post, we'll explore the Working Directory feature, understand \n",
    "  its syntax, and witness its power in action through real-world examples. Whether\n",
    "  you're a Makim veteran or a newcomer, this feature is designed to make your\n",
    "  command-line experience more flexible and tailored to your project's needs.\n",
    "  Let's dive into the details and unleash the potential of Makim's Working Directory\n",
    "  feature!\n",
    "thumbnail: \"/header.jpg\"\n",
    "template: \"blog-post.html\"\n",
    "---"
   ]
  },
  {
   "cell_type": "markdown",
   "id": "39d4fdb7-8441-4060-8048-3fc389f37cbd",
   "metadata": {},
   "source": [
    "# **Efficent Workflows with Makim's Working Directory**"
   ]
  },
  {
   "cell_type": "markdown",
   "id": "eca10ec0-50fe-4ef2-a80f-75ab15beb60c",
   "metadata": {},
   "source": [
    "Welcome to the world of [Makim](https://github.com/osl-incubator/makim), your go-to command-line companion for project automation. In our ongoing effort to enhance Makim's capabilities, we've introduced an exciting new feature—the Working Directory. This feature brings a new level of control and flexibility to your project workflows.\n",
    "\n",
    "In this blog post, we'll explore the Working Directory feature, understand its syntax, and witness its power in action through real-world examples. Whether you're a Makim veteran or a newcomer, this feature is designed to make your command-line experience more flexible and tailored to your project's needs. Let's dive into the details and unleash the potential of Makim's Working Directory feature!"
   ]
  },
  {
   "cell_type": "markdown",
   "id": "a445f2d9-e743-4b24-9b47-2f00455898de",
   "metadata": {},
   "source": [
    "## Unveiling the attribute: working-directory"
   ]
  },
  {
   "cell_type": "markdown",
   "id": "1f75b9ef-ce06-4003-ac8f-308b853a27f5",
   "metadata": {},
   "source": [
    "In the bustling realm of project management, one of the key challenges is orchestrating a seamless workflow while ensuring command executions are precisely where they need to be. This is where Makim's **Working Directory** steps into the spotlight, offering a robust solution for organizing, customizing, and optimizing your project commands."
   ]
  },
  {
   "cell_type": "markdown",
   "id": "1a214ca5-810a-4ef9-84d6-93b3c37e1882",
   "metadata": {},
   "source": [
    "## Syntax and Scopes"
   ]
  },
  {
   "cell_type": "markdown",
   "id": "56c3a561-48b0-4047-b155-db00bf11eb07",
   "metadata": {},
   "source": [
    "The Working Directory feature in Makim operates across three distinct scopes: Global, Group, and Target.\n",
    "1. **Global Scope**\n",
    "   \n",
    "   At the global scope, setting the working directory impacts all targets and groups within the Makim configuration. It provides a top-level directive to establish a standardized execution environment.\n",
    "```yaml\n",
    "version: 1.0\n",
    "working-directory: /path/to/global/directory\n",
    "\n",
    "# ... other configuration ...\n",
    "```\n",
    "\n",
    "2. **Group Scope**\n",
    "   \n",
    "   Moving a level deeper, the group scope allows you to tailor the working directory for all targets within a specific group.\n",
    "```yaml\n",
    "version: 1.0\n",
    "\n",
    "groups:\n",
    "  my-group:\n",
    "    working-directory: /path/to/group/directory\n",
    "    targets:\n",
    "      target-1:\n",
    "        run: |\n",
    "          # This target operates within the /path/to/group/directory\n",
    "```\n",
    "3. **Target Scope**\n",
    "   \n",
    "   For fine-grained control over individual targets, the working directory can be specified at the target scope.\n",
    "```yaml\n",
    "version: 1.0\n",
    "\n",
    "groups:\n",
    "  my-group:\n",
    "    targets:\n",
    "      my-target:\n",
    "        working-directory: /path/to/target/directory\n",
    "        run: |\n",
    "          # This target operates within the /path/to/target/directory\n",
    "```\n",
    "\n",
    "The flexibility provided by these scopes ensures that your commands are executed in precisely the right context, maintaining a clean and organized project structure."
   ]
  },
  {
   "cell_type": "markdown",
   "id": "05c11ec2-7749-4db0-832b-0738d63c22c0",
   "metadata": {},
   "source": [
    "## Why is it helpful?"
   ]
  },
  {
   "cell_type": "markdown",
   "id": "ae7bdee0-f8e5-4844-9dbd-1dafb0622b4d",
   "metadata": {},
   "source": [
    "Embracing the Working Directory feature in Makim brings forth a multitude of advantages, enhancing the overall project management experience. Let's delve into why this feature is a game-changer for your Makim configurations:\n",
    "1. **Isolation of Commands:**\n",
    "    Users can isolate commands within specific directories, avoiding potential conflicts and ensuring that commands run in the expected environment.\n",
    "\n",
    "2. **Flexibility in Configuration:**\n",
    "    Different targets or groups may require different execution environments. The working-directory attribute provides the flexibility to customize these environments, tailoring them to the unique needs of each segment of your project.\n",
    "\n",
    "3. **Ease of Use:**\n",
    "    Users can easily understand and manage the execution context of commands within the Makim configuration. This makes the configuration more readable and maintainable, especially when dealing with complex project structures.\n",
    "\n",
    "4. **Support for Absolute and Relative Paths:**\n",
    "    The feature supports both absolute and relative paths, allowing users to specify directories based on their requirements. This flexibility ensures compatibility with diverse project structures and simplifies the configuration process."
   ]
  },
  {
   "cell_type": "markdown",
   "id": "35312475-67f7-4108-a328-7235b032cc8c",
   "metadata": {},
   "source": [
    "## Real-Life Example"
   ]
  },
  {
   "cell_type": "markdown",
   "id": "e5dbbc1a-59d1-4028-9575-d21f2e2e12ef",
   "metadata": {},
   "source": [
    "Consider a scenario where a development team is working on a project that involves multiple programming languages and technologies. The project structure looks like this:"
   ]
  },
  {
   "cell_type": "markdown",
   "id": "edeab9cc-5fa2-44ac-b1fb-5570c5f5753c",
   "metadata": {},
   "source": [
    "```\n",
    "multi_language_project/\n",
    "│\n",
    "├── backend/\n",
    "│   ├── python/\n",
    "│   │   └── src/\n",
    "│   └── java/\n",
    "│       └── src/\n",
    "│\n",
    "└── frontend/\n",
    "    ├── react/\n",
    "    │   └── src/\n",
    "    └── vue/\n",
    "        └── src/\n",
    "```"
   ]
  },
  {
   "cell_type": "markdown",
   "id": "5dcf2f8e-d41c-4684-b305-16c382af2216",
   "metadata": {},
   "source": [
    "The project consists of a backend with components implemented in both Python and Java, and a frontend with components using React and Vue.js. To efficiently manage and run tasks for each language or framework, the Working Directory feature proves invaluable.\n",
    "\n",
    "Let's create a Makim configuration file *(.makim.yaml)* that showcases the flexibility of the Working Directory feature in managing tasks for different languages."
   ]
  },
  {
   "cell_type": "code",
   "execution_count": 1,
   "id": "726bcf5a-7cc5-4448-af62-0564e2cbe1a1",
   "metadata": {},
   "outputs": [
    {
     "name": "stdout",
     "output_type": "stream",
     "text": [
      "Overwriting .makim.yaml\n"
     ]
    }
   ],
   "source": [
    "%%writefile .makim.yaml\n",
    "version: 1.0\n",
    "working-directory: \"/tmp/multi_language_project\"\n",
    "groups:\n",
    "  backend_python:\n",
    "    working-directory: \"backend/python\"\n",
    "    targets:\n",
    "      test:\n",
    "        run: |\n",
    "          echo \"Running Python backend tests...\"\n",
    "          # Add commands to run Python backend tests\n",
    "      lint:\n",
    "        run: |\n",
    "          echo \"Linting Python code...\"\n",
    "          # Add commands for linting Python code\n",
    "\n",
    "  backend_java:\n",
    "    working-directory: \"backend/java\"\n",
    "    targets:\n",
    "      test:\n",
    "        working-directory: \"src\"\n",
    "        run: |\n",
    "          echo \"Running Java backend tests...\"\n",
    "          # Add commands to run Java backend tests\n",
    "      build:\n",
    "        run: |\n",
    "          echo \"Building Java artifacts...\"\n",
    "          # Add commands for building Java artifacts\n",
    "\n",
    "  frontend_react:\n",
    "    working-directory: \"frontend/react\"\n",
    "    targets:\n",
    "      test:\n",
    "        run: |\n",
    "          echo \"Running React frontend tests...\"\n",
    "          # Add commands to run React frontend tests\n",
    "      build:\n",
    "        run: |\n",
    "          echo \"Building React frontend...\"\n",
    "          # Add commands for building React frontend\n",
    "\n",
    "  frontend_vue:\n",
    "    working-directory: \"frontend/vue\"\n",
    "    targets:\n",
    "      test:\n",
    "        run: |\n",
    "          echo \"Running Vue.js frontend tests...\"\n",
    "          # Add commands to run Vue.js frontend tests\n",
    "      build:\n",
    "        working-directory: \"src\"\n",
    "        run: |\n",
    "          echo \"Building Vue.js frontend...\"\n",
    "          # Add commands for building Vue.js frontend"
   ]
  },
  {
   "cell_type": "code",
   "execution_count": 19,
   "id": "af7432d1",
   "metadata": {},
   "outputs": [
    {
     "name": "stdout",
     "output_type": "stream",
     "text": [
      "Linting Python code...\n",
      "Running Java backend tests...\n",
      "Running React frontend tests...\n",
      "Building Vue.js frontend...\n"
     ]
    }
   ],
   "source": [
    "!makim --makim-file ./.makim.yaml backend_python.lint\n",
    "!makim --makim-file ./.makim.yaml backend_java.test\n",
    "!makim --makim-file ./.makim.yaml frontend_react.test\n",
    "!makim --makim-file ./.makim.yaml frontend_vue.build"
   ]
  },
  {
   "cell_type": "markdown",
   "id": "184db134",
   "metadata": {},
   "source": [
    "## Conclusion\n",
    "\n",
    "In conclusion, Makim's working-directory feature empowers users with a flexible and efficient approach to project management. Throughout this blog, we explored how this feature, applied at the global, group, and target scopes, provides unparalleled customization and control over the execution environment.\n",
    "\n",
    "By isolating commands, offering flexibility in configuration, and ensuring ease of use, Makim's working-directory feature becomes an invaluable asset in your toolkit. It not only streamlines the execution of commands but also enhances the overall organization and maintainability of your projects.\n",
    "\n",
    "Harness the power of working directories in Makim to elevate your project management game. As you integrate this tool into your workflow, you'll discover a newfound simplicity and clarity in your command execution. Enjoy the benefits of an organized and optimized project environment, courtesy of Makim's innovative features.\n",
    "\n",
    "Start optimizing your projects with Makim today!"
   ]
  }
 ],
 "metadata": {
  "kernelspec": {
   "display_name": "Python 3 (ipykernel)",
   "language": "python",
   "name": "python3"
  },
  "language_info": {
   "codemirror_mode": {
    "name": "ipython",
    "version": 3
   },
   "file_extension": ".py",
   "mimetype": "text/x-python",
   "name": "python",
   "nbconvert_exporter": "python",
   "pygments_lexer": "ipython3",
   "version": "3.11.6"
  }
 },
 "nbformat": 4,
 "nbformat_minor": 5
}
