{
 "cells": [
  {
   "cell_type": "raw",
   "id": "f170f83a-7776-4ed8-b295-4eb57b5d0219",
   "metadata": {},
   "source": [
    "---\n",
    "title: \"Unlocking the Power of Multiple Dispatch in Python with Plum-Dispatch\"\n",
    "slug:  unlocking-the-power-of-multiple-dispatch-in-python-with-plum-dispatch\n",
    "date: 2024-01-05\n",
    "authors: [\"Ivan Ogasawara\"]\n",
    "tags: [open-source, multiple-dispatch, python]\n",
    "categories: [python]\n",
    "description: |\n",
    "  Python, known for its simplicity and readability, sometimes requires a bit of\n",
    "  creativity when it comes to implementing certain programming paradigms. One such\n",
    "  paradigm is multiple dispatch (or multimethods), which allows functions to behave\n",
    "  differently based on the type of their arguments. This is where plum-dispatch\n",
    "  comes into play.\n",
    "thumbnail: \"/header.png\"\n",
    "template: \"blog-post.html\"\n",
    "---"
   ]
  },
  {
   "cell_type": "markdown",
   "id": "46aadcef-e7c2-480a-bf3a-bbe20d09cc3b",
   "metadata": {},
   "source": [
    "Python, known for its simplicity and readability, sometimes requires a bit of creativity when it comes to implementing certain programming paradigms. One such paradigm is multiple dispatch (or multimethods), which allows functions to behave differently based on the type of their arguments. While not natively supported in Python, this feature can be incredibly powerful, particularly in complex applications such as mathematical computations, data processing, or when working with abstract syntax trees (ASTs). This is where `plum-dispatch` comes into play.\n",
    "\n",
    "## What is Multiple Dispatch?\n",
    "\n",
    "Multiple dispatch is a feature where the function to be executed is determined by the types of multiple arguments. This is different from single dispatch (which Python supports natively via the `functools.singledispatch` decorator), where the function called depends only on the type of the first argument.\n",
    "\n",
    "## Introducing Plum-Dispatch\n",
    "\n",
    "`plum-dispatch` is a Python library that provides an efficient and easy-to-use implementation of multiple dispatch. It allows you to define multiple versions of a function, each tailored to different types of input arguments.\n",
    "\n",
    "### Installation\n",
    "\n",
    "First things first, let's install `plum-dispatch`:"
   ]
  },
  {
   "cell_type": "code",
   "execution_count": 1,
   "id": "5d233782-8974-4758-aac8-0a6cfe757376",
   "metadata": {},
   "outputs": [],
   "source": [
    "!pip install plum-dispatch -q"
   ]
  },
  {
   "cell_type": "markdown",
   "id": "84a8444d-6f2b-442e-8ab8-44f92c645c01",
   "metadata": {},
   "source": [
    "### Basic Usage\n",
    "\n",
    "To demonstrate the basic usage of `plum-dispatch`, let's start with a simple example. Suppose we have a function that needs to behave differently when passed an integer versus when it's passed a string."
   ]
  },
  {
   "cell_type": "code",
   "execution_count": 2,
   "id": "8a1320a3-4531-4d60-80af-4c8ae6301ad4",
   "metadata": {},
   "outputs": [],
   "source": [
    "from plum import dispatch\n",
    "\n",
    "class Processor:\n",
    "    @dispatch\n",
    "    def process(self, data: int):\n",
    "        return f\"Processing integer: {data}\"\n",
    "\n",
    "    @dispatch\n",
    "    def process(self, data: str):\n",
    "        return f\"Processing string: {data}\""
   ]
  },
  {
   "cell_type": "markdown",
   "id": "b396547c-3601-4d32-b6b3-25eba3c13be0",
   "metadata": {},
   "source": [
    "In this example, `Processor` has two `process` methods, one for integers and one for strings. `plum-dispatch` takes care of determining which method to call based on the type of `data`."
   ]
  },
  {
   "cell_type": "markdown",
   "id": "6f2f654d-c142-408b-981c-ea0f4875a36d",
   "metadata": {},
   "source": [
    "### Advanced Example: Working with ASTs\n",
    "\n",
    "`plum-dispatch` shines in more complex scenarios, such as when working with different types of nodes in an abstract syntax tree. Let's create a simple AST representation with different node types and a visitor class to process these nodes."
   ]
  },
  {
   "cell_type": "code",
   "execution_count": 3,
   "id": "4314c83a-8c69-41e7-be27-7738cd1003a9",
   "metadata": {},
   "outputs": [],
   "source": [
    "class StringNode:\n",
    "    def __init__(self, value):\n",
    "        self.value = value\n",
    "\n",
    "class NumberNode:\n",
    "    def __init__(self, value):\n",
    "        self.value = value\n",
    "\n",
    "class BaseASTVisitor:\n",
    "    @dispatch\n",
    "    def visit(self, node: StringNode):\n",
    "        raise Exception(\"Not implemented yet.\")\n",
    "\n",
    "    @dispatch\n",
    "    def visit(self, node: NumberNode):\n",
    "        raise Exception(\"Not implemented yet.\")\n",
    "\n",
    "class ASTVisitor(BaseASTVisitor):\n",
    "    @dispatch\n",
    "    def visit(self, node: StringNode):\n",
    "        return f\"Visited StringNode with value: {node.value}\"\n",
    "\n",
    "    @dispatch\n",
    "    def visit(self, node: NumberNode):\n",
    "        return f\"Visited NumberNode with value: {node.value}\""
   ]
  },
  {
   "cell_type": "markdown",
   "id": "d04e9401-e2a3-415a-9b85-0d1e0bf459e6",
   "metadata": {},
   "source": [
    "With `plum-dispatch`, our `ASTVisitor` can have a single `visit` method that behaves differently depending on whether it's visiting a `StringNode` or a `NumberNode`."
   ]
  },
  {
   "cell_type": "markdown",
   "id": "312c3a2f-27b4-4abc-ab0d-ab6cd531066d",
   "metadata": {},
   "source": [
    "### Putting It All Together\n",
    "Now, let's see `plum-dispatch` in action:"
   ]
  },
  {
   "cell_type": "code",
   "execution_count": 4,
   "id": "a321b28b-25ab-47a7-bd28-bbed52107952",
   "metadata": {},
   "outputs": [
    {
     "name": "stdout",
     "output_type": "stream",
     "text": [
      "Processing integer: 123\n",
      "Processing string: abc\n",
      "Visited StringNode with value: Hello\n",
      "Visited NumberNode with value: 456\n"
     ]
    }
   ],
   "source": [
    "processor = Processor()\n",
    "print(processor.process(123))  # \"Processing integer: 123\"\n",
    "print(processor.process(\"abc\"))  # \"Processing string: abc\"\n",
    "\n",
    "visitor = ASTVisitor()\n",
    "print(visitor.visit(StringNode(\"Hello\")))  # \"Visited StringNode with value: Hello\"\n",
    "print(visitor.visit(NumberNode(456)))  # \"Visited NumberNode with value: 456\""
   ]
  },
  {
   "cell_type": "markdown",
   "id": "1045a8fa-87ca-44fa-86ea-425429377ee1",
   "metadata": {},
   "source": [
    "## Conclusion\n",
    "\n",
    "`plum-dispatch` offers a neat and powerful way to implement multiple dispatch in Python, making your code more modular, readable, and elegant. Whether you're dealing with simple data types or complex structures like ASTs, `plum-dispatch` can help you write more efficient and maintainable code.\n",
    "\n",
    "For more complex examples and advanced usage, check out the [plum-dispatch documentation](https://github.com/wesselb/plum)."
   ]
  }
 ],
 "metadata": {
  "kernelspec": {
   "display_name": "Python 3 (ipykernel)",
   "language": "python",
   "name": "python3"
  },
  "language_info": {
   "codemirror_mode": {
    "name": "ipython",
    "version": 3
   },
   "file_extension": ".py",
   "mimetype": "text/x-python",
   "name": "python",
   "nbconvert_exporter": "python",
   "pygments_lexer": "ipython3",
   "version": "3.11.7"
  }
 },
 "nbformat": 4,
 "nbformat_minor": 5
}
