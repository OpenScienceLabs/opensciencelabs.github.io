{
 "cells": [
  {
   "cell_type": "raw",
   "id": "4a31e70a-75c7-47aa-8793-b44efeaaa0b1",
   "metadata": {},
   "source": [
    "---\n",
    "title: \"Working with Boolean Expressions in Python\"\n",
    "slug: \"working-with-boolean-expressions-in-python\"\n",
    "date: 2024-01-31\n",
    "authors: [\"Ivan Ogasawara\"]\n",
    "tags: [\"boolean expressions\", \"boolean\", \"python\"]\n",
    "categories: [\"devops\", \"automation\", \"python\"]\n",
    "description: |\n",
    "  Boolean logic is a crucial component in many programming tasks, especially\n",
    "  in searching and querying data. In this tutorial, we'll explore how to use boolean.py,\n",
    "  a Python library, for handling Boolean expressions. \n",
    "  We'll apply it to medical symptom data as an illustrative example.\n",
    "thumbnail: \"/header.png\"\n",
    "template: \"blog-post.html\"\n",
    "---"
   ]
  },
  {
   "cell_type": "markdown",
   "id": "458e17dc-2853-49cd-9ad3-ecd0c617019c",
   "metadata": {},
   "source": [
    "# Working with Boolean Expressions in Python\n",
    "\n",
    "Boolean logic is a crucial component in many programming tasks, especially in searching and querying data. In this tutorial, we'll explore how to use `boolean.py`, a Python library, for handling Boolean expressions. We'll apply it to medical symptom data as an illustrative example.\n",
    "\n",
    "## Introduction to `boolean.py`\n",
    "\n",
    "`boolean.py` is a Python library for creating, manipulating, and evaluating Boolean expressions. It's particularly useful in scenarios where you need to parse and evaluate expressions that represent conditions or filters, such as searching for specific symptoms in a medical database.\n",
    "\n",
    "## Installation\n",
    "\n",
    "First and foremost, you need to have `boolean.py` installed in your Python environment. You can easily install it using pip. Run the following command:"
   ]
  },
  {
   "cell_type": "code",
   "execution_count": 1,
   "id": "d231485b-1aef-45b6-99b6-f4d850238e16",
   "metadata": {},
   "outputs": [],
   "source": [
    "!pip install -q boolean.py"
   ]
  },
  {
   "cell_type": "markdown",
   "id": "fefb2dd4-bfa3-4603-96e0-fd520c11d2da",
   "metadata": {},
   "source": [
    "## Basic Usage\n",
    "\n",
    "We begin with basic Boolean operations, which are the foundation of working with this library.\n",
    "\n",
    "### Creating Boolean Variables"
   ]
  },
  {
   "cell_type": "code",
   "execution_count": 2,
   "id": "ab358eda-ea90-4635-b6cc-ab8ece1a6439",
   "metadata": {},
   "outputs": [
    {
     "data": {
      "text/plain": [
       "(Symbol('fever'), Symbol('cough'))"
      ]
     },
     "execution_count": 2,
     "metadata": {},
     "output_type": "execute_result"
    }
   ],
   "source": [
    "import boolean\n",
    "\n",
    "from boolean.boolean import BooleanAlgebra\n",
    "\n",
    "# Create a Boolean algebra system\n",
    "algebra = BooleanAlgebra()\n",
    "\n",
    "# Define some symptoms as variables\n",
    "fever = algebra.Symbol('fever')\n",
    "cough = algebra.Symbol('cough')\n",
    "\n",
    "fever, cough"
   ]
  },
  {
   "cell_type": "markdown",
   "id": "0225585b-5fdc-466b-806c-bb9f266d12b6",
   "metadata": {},
   "source": [
    "In this code, we import `BooleanAlgebra` from `boolean.py` and create an instance of it. We then define Boolean variables (symbols) for common symptoms. These symbols act as the basic units for our Boolean expressions.\n"
   ]
  },
  {
   "cell_type": "markdown",
   "id": "47e97f30-9bfa-4cf2-9ead-829c7f75cb3b",
   "metadata": {},
   "source": [
    "### Basic Boolean Operations"
   ]
  },
  {
   "cell_type": "code",
   "execution_count": 3,
   "id": "84a63a66-72e4-430f-b8c1-b27a472c8e02",
   "metadata": {},
   "outputs": [
    {
     "name": "stdout",
     "output_type": "stream",
     "text": [
      "fever&cough\n",
      "fever|cough\n",
      "~fever\n"
     ]
    }
   ],
   "source": [
    "# AND operation\n",
    "symptoms_and = fever & cough\n",
    "print(symptoms_and)\n",
    "\n",
    "# OR operation\n",
    "symptoms_or = fever | cough\n",
    "print(symptoms_or)\n",
    "\n",
    "# NOT operation\n",
    "no_fever = ~fever\n",
    "print(no_fever)"
   ]
  },
  {
   "cell_type": "markdown",
   "id": "8e68c8b3-fae1-4ffc-8bd8-2682f522ce8b",
   "metadata": {},
   "source": [
    "Here, we demonstrate basic Boolean operations: AND, OR, and NOT. These operations are essential in constructing more complex Boolean expressions. For example, `symptoms_and` represents a scenario where a patient has both fever and cough."
   ]
  },
  {
   "cell_type": "markdown",
   "id": "183fe7e0-acb6-48dc-b0be-020f7dc51aee",
   "metadata": {},
   "source": [
    "## Advanced Expressions\n",
    "\n",
    "Now, let's create more complex expressions that could simulate queries for medical symptoms.\n",
    "\n",
    "### Complex Expressions"
   ]
  },
  {
   "cell_type": "code",
   "execution_count": 4,
   "id": "a777a904-405d-45cd-8323-bad8fb398c58",
   "metadata": {},
   "outputs": [
    {
     "name": "stdout",
     "output_type": "stream",
     "text": [
      "((fever|cough)&~headache)&fatigue\n"
     ]
    }
   ],
   "source": [
    "headache = algebra.Symbol('headache')\n",
    "fatigue = algebra.Symbol('fatigue')\n",
    "\n",
    "# Complex expression\n",
    "complex_symptoms = (fever | cough) & ~headache & fatigue\n",
    "print(complex_symptoms)"
   ]
  },
  {
   "cell_type": "markdown",
   "id": "931725d2-c48c-4c6c-974d-f9bb229ee12c",
   "metadata": {},
   "source": [
    "This complex expression can represent a more specific medical query. For instance, it could be used to find patients who have either fever or cough, do not have a headache, but are experiencing fatigue."
   ]
  },
  {
   "cell_type": "markdown",
   "id": "724132e3-b4a1-44ee-ba6b-4c388685f3ce",
   "metadata": {},
   "source": [
    "### Evaluating Expressions\n",
    "\n",
    "We can evaluate these expressions with specific values to simulate checking a patient's symptoms against our criteria."
   ]
  },
  {
   "cell_type": "code",
   "execution_count": 5,
   "id": "9a28ae95-012b-4c77-8329-5dcde7410bb2",
   "metadata": {},
   "outputs": [
    {
     "name": "stdout",
     "output_type": "stream",
     "text": [
      "Does the patient match the criteria? (((1)|(0))&(~(0)))&(1) = True\n"
     ]
    }
   ],
   "source": [
    "# Define truthy and falsy symbols\n",
    "true = algebra.TRUE\n",
    "false = algebra.FALSE\n",
    "\n",
    "# Define complex expression\n",
    "complex_symptoms = (fever | cough) & ~headache & fatigue\n",
    "\n",
    "# Define a patient's symptoms using truthy and falsy symbols\n",
    "patient_symptoms = {fever: true, cough: false, headache: false, fatigue: true}\n",
    "\n",
    "# Substitute symbols in the expression with the corresponding patient symptoms\n",
    "substituted_expression = complex_symptoms.subs(patient_symptoms)\n",
    "\n",
    "# Evaluate the expression\n",
    "# The expression itself is the result since boolean.py does not evaluate to Python booleans\n",
    "result = substituted_expression\n",
    "\n",
    "print(\"Does the patient match the criteria?\", result, \"=\", result.simplify() == true)\n"
   ]
  },
  {
   "cell_type": "markdown",
   "id": "2e5d3c70-2750-4aa9-bdd2-a60a4203671b",
   "metadata": {},
   "source": [
    "In this example, we demonstrate how to evaluate a Boolean expression against a set of patient symptoms. We use `.subs()` to replace each symbol in our expression with the corresponding value (symptom presence) from `patient_symptoms`. The `.simplify()` method then evaluates this substituted expression to a Boolean value, indicating whether the patient's symptoms match our query criteria.\n"
   ]
  },
  {
   "cell_type": "markdown",
   "id": "d2972b0a-635a-49cb-9527-1d265b43d2bd",
   "metadata": {},
   "source": [
    "## Parsing Expressions from Strings\n",
    "\n",
    "Lastly, we explore parsing Boolean expressions from strings, a powerful feature for dynamic expression construction.\n",
    "\n",
    "### Parsing Example"
   ]
  },
  {
   "cell_type": "code",
   "execution_count": 6,
   "id": "ff5f2bfb-05cb-4cf5-8b13-23e0ad6de5e8",
   "metadata": {},
   "outputs": [
    {
     "name": "stdout",
     "output_type": "stream",
     "text": [
      "parsed expression: (fever|cough)&~headache&fatigue\n",
      "Does the patient match the criteria? True\n"
     ]
    }
   ],
   "source": [
    "expression_string = \"(fever | cough) & ~headache & fatigue\"\n",
    "\n",
    "# Parse the expression from string\n",
    "parsed_expression = algebra.parse(expression_string)\n",
    "\n",
    "# Display the parsed expression\n",
    "print(\"parsed expression:\", parsed_expression)\n",
    "\n",
    "# Evaluate with the same patient symptoms\n",
    "result = parsed_expression.subs(patient_symptoms)\n",
    "print(f\"Does the patient match the criteria? {result.simplify() == true}\")"
   ]
  },
  {
   "cell_type": "markdown",
   "id": "618bb340-10f6-44ea-82b1-869a7c090da0",
   "metadata": {},
   "source": [
    "Parsing expressions from strings is extremely useful when you need to construct Boolean expressions dynamically, such as from user inputs or configuration files. In this example, we parse a string representing a Boolean expression and then evaluate it as before."
   ]
  },
  {
   "cell_type": "code",
   "execution_count": 7,
   "id": "d452b111-c9fc-4566-8af8-bf552b7184f3",
   "metadata": {},
   "outputs": [
    {
     "name": "stdout",
     "output_type": "stream",
     "text": [
      "[EE] Unknown token for token: \"\"\" at position: 9\n"
     ]
    }
   ],
   "source": [
    "expression_string = '(fever | \"blood cough\") & ~headache & fatigue'\n",
    "\n",
    "# Parse the expression from string\n",
    "try:\n",
    "    parsed_expression = algebra.parse(expression_string)\n",
    "except boolean.ParseError as e:\n",
    "    print(\"[EE]\", str(e))"
   ]
  },
  {
   "cell_type": "markdown",
   "id": "4f042b9c-18f6-4955-9dcf-acb7ef9e3197",
   "metadata": {},
   "source": [
    "The string parser doesn't work with complex strings directly, but creating a manual symbol for the disease works fine."
   ]
  },
  {
   "cell_type": "code",
   "execution_count": 8,
   "id": "ff396a7c-f69d-4058-a219-c196d8c4936a",
   "metadata": {},
   "outputs": [
    {
     "name": "stdout",
     "output_type": "stream",
     "text": [
      "================================================================================\n",
      "patient without fever\n",
      "Does the patient match the criteria? False\n",
      "================================================================================\n",
      "patient with all symptoms\n",
      "Does the patient match the criteria? True\n"
     ]
    }
   ],
   "source": [
    "blood_cough = boolean.Symbol(\"blood cough\")\n",
    "\n",
    "chest_infection = blood_cough & fever\n",
    "\n",
    "print(\"=\" * 80)\n",
    "print(\"patient without fever\")\n",
    "chest_infection_patient_symptoms = {blood_cough: true, fever: false}\n",
    "result = chest_infection.subs(chest_infection_patient_symptoms)\n",
    "print(f\"Does the patient match the criteria? {result.simplify() == true}\")\n",
    "\n",
    "print(\"=\" * 80)\n",
    "print(\"patient with all symptoms\")\n",
    "chest_infection_patient_symptoms = {blood_cough: true, fever: true}\n",
    "result = chest_infection.subs(chest_infection_patient_symptoms)\n",
    "print(f\"Does the patient match the criteria? {result.simplify() == true}\")"
   ]
  },
  {
   "cell_type": "markdown",
   "id": "85dd008d-61ca-408c-9928-7cee4029b654",
   "metadata": {},
   "source": [
    "## Conclusion\n",
    "\n",
    "Throughout this tutorial, we have explored how to use `boolean.py` for handling and evaluating Boolean expressions in Python. By starting from basic operations and moving to parsing expressions from strings, we've covered a range of functionalities provided by this library. While we focused on a medical context, the principles and methods are broadly applicable across different domains."
   ]
  }
 ],
 "metadata": {
  "kernelspec": {
   "display_name": "Python 3 (ipykernel)",
   "language": "python",
   "name": "python3"
  },
  "language_info": {
   "codemirror_mode": {
    "name": "ipython",
    "version": 3
   },
   "file_extension": ".py",
   "mimetype": "text/x-python",
   "name": "python",
   "nbconvert_exporter": "python",
   "pygments_lexer": "ipython3",
   "version": "3.11.7"
  }
 },
 "nbformat": 4,
 "nbformat_minor": 5
}
